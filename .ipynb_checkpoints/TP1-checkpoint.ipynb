{
 "cells": [
  {
   "cell_type": "markdown",
   "metadata": {},
   "source": [
    "# Trabalho Prático I"
   ]
  },
  {
   "cell_type": "markdown",
   "metadata": {},
   "source": [
    "## 1. Objetivo"
   ]
  },
  {
   "cell_type": "markdown",
   "metadata": {},
   "source": [
    "O objetivo deste trabalho prático é de praticar os conceitos aprendidos na disciplina e de adquirir\n",
    "experiência no uso de alguns dos principais métodos de classificação, na avaliação de modelos e na\n",
    "interpretação e apresentação de resultados de experimentos. Para isso serão utilizados e comparados métodos de classificação baseados em diferentes princípios para um prolema de classificação binária.\n",
    "\n",
    "Serão aplicados seis métodos de classificação:\n",
    "- Naive Bayes;\n",
    "- Decision Tree;\n",
    "- k-Nearest Neighbors;\n",
    "- Support Vector Machines (SVM);\n",
    "- Random Forest, e\n",
    "- Gradient Tree Boosting."
   ]
  },
  {
   "cell_type": "markdown",
   "metadata": {},
   "source": [
    "## 2. Base de Dados"
   ]
  },
  {
   "cell_type": "markdown",
   "metadata": {},
   "source": [
    "Os dados a serem utilizados foram fornecidos pelo professor e constituem uma base referente à classificação de candidatos a exoplanetas encontrados pela sonda espacial Kepler da NASA, sendo um exoplaneta um planeta fora do sistema solar. A sonda primeiro identifica sinais de possíveis exoplanetas, chamados de Kepler Object of Interest (KOI). Porem nem todos os KOIs são de fato exoplanetas, alguns se tratam de falsos positivos de origens diversas. \n",
    "\n",
    "Sendo assim, a tarefa consiste em classificar os KOIs entre exoplanetas confirmados e falsos positivos. Na base utilizada, observação corresponde a um KOI e as features são características estimadas de cada (possível) exoplaneta (tamanho, temperatura, features da estrela hospedeira, etc).\n",
    "\n",
    "A seguir, os 5 primeiros casos da base de dados são apresentados após o carregamento de todos os módulos que serão utilizados ao longo do trabalho."
   ]
  },
  {
   "cell_type": "code",
   "execution_count": 1,
   "metadata": {},
   "outputs": [],
   "source": [
    "## Carregando os pacotes a serem utilizados.\n",
    "import pandas as pd                    #para mainpulação de dataframes e leitura dos dados.\n",
    "import numpy as np                     #para operações numéricas e com vetores.\n",
    "import matplotlib.pyplot as plt        #para plots rápidos e simples.\n",
    "from sklearn import svm                #métodos de classificação que serão utilizados.\n",
    "from sklearn import metrics\n",
    "from sklearn import ensemble\n",
    "from sklearn import neighbors\n",
    "from sklearn import feature_selection\n",
    "from sklearn import metrics\n",
    "from sklearn.metrics import classification_report, confusion_matrix  \n",
    "from sklearn.model_selection import KFold\n",
    "# Display plots no próprio notebook\n",
    "%matplotlib inline                    \n",
    "plt.style.use('ggplot')                # Utilizar estilo do ggplot'b"
   ]
  },
  {
   "cell_type": "code",
   "execution_count": 2,
   "metadata": {},
   "outputs": [
    {
     "data": {
      "text/html": [
       "<div>\n",
       "<style>\n",
       "    .dataframe thead tr:only-child th {\n",
       "        text-align: right;\n",
       "    }\n",
       "\n",
       "    .dataframe thead th {\n",
       "        text-align: left;\n",
       "    }\n",
       "\n",
       "    .dataframe tbody tr th {\n",
       "        vertical-align: top;\n",
       "    }\n",
       "</style>\n",
       "<table border=\"1\" class=\"dataframe\">\n",
       "  <thead>\n",
       "    <tr style=\"text-align: right;\">\n",
       "      <th></th>\n",
       "      <th>kepoi_name</th>\n",
       "      <th>koi_disposition</th>\n",
       "      <th>koi_period</th>\n",
       "      <th>koi_impact</th>\n",
       "      <th>koi_duration</th>\n",
       "      <th>koi_depth</th>\n",
       "      <th>koi_ror</th>\n",
       "      <th>koi_srho</th>\n",
       "      <th>koi_prad</th>\n",
       "      <th>koi_sma</th>\n",
       "      <th>...</th>\n",
       "      <th>koi_fwm_srao</th>\n",
       "      <th>koi_fwm_sdeco</th>\n",
       "      <th>koi_fwm_prao</th>\n",
       "      <th>koi_fwm_pdeco</th>\n",
       "      <th>koi_dicco_mra</th>\n",
       "      <th>koi_dicco_mdec</th>\n",
       "      <th>koi_dicco_msky</th>\n",
       "      <th>koi_dikco_mra</th>\n",
       "      <th>koi_dikco_mdec</th>\n",
       "      <th>koi_dikco_msky</th>\n",
       "    </tr>\n",
       "  </thead>\n",
       "  <tbody>\n",
       "    <tr>\n",
       "      <th>0</th>\n",
       "      <td>K00752.01</td>\n",
       "      <td>CONFIRMED</td>\n",
       "      <td>9.48804</td>\n",
       "      <td>0.146</td>\n",
       "      <td>2.95750</td>\n",
       "      <td>615.8</td>\n",
       "      <td>0.02234</td>\n",
       "      <td>3.20796</td>\n",
       "      <td>2.26</td>\n",
       "      <td>0.0853</td>\n",
       "      <td>...</td>\n",
       "      <td>0.430</td>\n",
       "      <td>0.940</td>\n",
       "      <td>-0.00020</td>\n",
       "      <td>-0.00055</td>\n",
       "      <td>-0.010</td>\n",
       "      <td>0.200</td>\n",
       "      <td>0.200</td>\n",
       "      <td>0.080</td>\n",
       "      <td>0.310</td>\n",
       "      <td>0.320</td>\n",
       "    </tr>\n",
       "    <tr>\n",
       "      <th>1</th>\n",
       "      <td>K00752.02</td>\n",
       "      <td>CONFIRMED</td>\n",
       "      <td>54.41838</td>\n",
       "      <td>0.586</td>\n",
       "      <td>4.50700</td>\n",
       "      <td>874.8</td>\n",
       "      <td>0.02795</td>\n",
       "      <td>3.02368</td>\n",
       "      <td>2.83</td>\n",
       "      <td>0.2734</td>\n",
       "      <td>...</td>\n",
       "      <td>-0.630</td>\n",
       "      <td>1.230</td>\n",
       "      <td>0.00066</td>\n",
       "      <td>-0.00105</td>\n",
       "      <td>0.390</td>\n",
       "      <td>0.000</td>\n",
       "      <td>0.390</td>\n",
       "      <td>0.490</td>\n",
       "      <td>0.120</td>\n",
       "      <td>0.500</td>\n",
       "    </tr>\n",
       "    <tr>\n",
       "      <th>2</th>\n",
       "      <td>K00754.01</td>\n",
       "      <td>FALSE POSITIVE</td>\n",
       "      <td>1.73695</td>\n",
       "      <td>1.276</td>\n",
       "      <td>2.40641</td>\n",
       "      <td>8079.2</td>\n",
       "      <td>0.38739</td>\n",
       "      <td>0.22080</td>\n",
       "      <td>33.46</td>\n",
       "      <td>0.0267</td>\n",
       "      <td>...</td>\n",
       "      <td>-0.111</td>\n",
       "      <td>0.002</td>\n",
       "      <td>0.00302</td>\n",
       "      <td>-0.00142</td>\n",
       "      <td>-0.249</td>\n",
       "      <td>0.147</td>\n",
       "      <td>0.289</td>\n",
       "      <td>-0.257</td>\n",
       "      <td>0.099</td>\n",
       "      <td>0.276</td>\n",
       "    </tr>\n",
       "    <tr>\n",
       "      <th>3</th>\n",
       "      <td>K00755.01</td>\n",
       "      <td>CONFIRMED</td>\n",
       "      <td>2.52559</td>\n",
       "      <td>0.701</td>\n",
       "      <td>1.65450</td>\n",
       "      <td>603.3</td>\n",
       "      <td>0.02406</td>\n",
       "      <td>1.98635</td>\n",
       "      <td>2.75</td>\n",
       "      <td>0.0374</td>\n",
       "      <td>...</td>\n",
       "      <td>-0.010</td>\n",
       "      <td>0.230</td>\n",
       "      <td>0.00008</td>\n",
       "      <td>-0.00007</td>\n",
       "      <td>0.030</td>\n",
       "      <td>-0.090</td>\n",
       "      <td>0.100</td>\n",
       "      <td>0.070</td>\n",
       "      <td>0.020</td>\n",
       "      <td>0.070</td>\n",
       "    </tr>\n",
       "    <tr>\n",
       "      <th>4</th>\n",
       "      <td>K00114.01</td>\n",
       "      <td>FALSE POSITIVE</td>\n",
       "      <td>7.36179</td>\n",
       "      <td>1.169</td>\n",
       "      <td>5.02200</td>\n",
       "      <td>233.7</td>\n",
       "      <td>0.18339</td>\n",
       "      <td>0.00485</td>\n",
       "      <td>39.21</td>\n",
       "      <td>0.0820</td>\n",
       "      <td>...</td>\n",
       "      <td>-13.450</td>\n",
       "      <td>24.090</td>\n",
       "      <td>0.00303</td>\n",
       "      <td>-0.00555</td>\n",
       "      <td>-4.506</td>\n",
       "      <td>7.710</td>\n",
       "      <td>8.930</td>\n",
       "      <td>-4.537</td>\n",
       "      <td>7.713</td>\n",
       "      <td>8.948</td>\n",
       "    </tr>\n",
       "  </tbody>\n",
       "</table>\n",
       "<p>5 rows × 43 columns</p>\n",
       "</div>"
      ],
      "text/plain": [
       "  kepoi_name koi_disposition  koi_period  koi_impact  koi_duration  koi_depth  \\\n",
       "0  K00752.01       CONFIRMED     9.48804       0.146       2.95750      615.8   \n",
       "1  K00752.02       CONFIRMED    54.41838       0.586       4.50700      874.8   \n",
       "2  K00754.01  FALSE POSITIVE     1.73695       1.276       2.40641     8079.2   \n",
       "3  K00755.01       CONFIRMED     2.52559       0.701       1.65450      603.3   \n",
       "4  K00114.01  FALSE POSITIVE     7.36179       1.169       5.02200      233.7   \n",
       "\n",
       "   koi_ror  koi_srho  koi_prad  koi_sma       ...        koi_fwm_srao  \\\n",
       "0  0.02234   3.20796      2.26   0.0853       ...               0.430   \n",
       "1  0.02795   3.02368      2.83   0.2734       ...              -0.630   \n",
       "2  0.38739   0.22080     33.46   0.0267       ...              -0.111   \n",
       "3  0.02406   1.98635      2.75   0.0374       ...              -0.010   \n",
       "4  0.18339   0.00485     39.21   0.0820       ...             -13.450   \n",
       "\n",
       "   koi_fwm_sdeco  koi_fwm_prao  koi_fwm_pdeco  koi_dicco_mra  koi_dicco_mdec  \\\n",
       "0          0.940      -0.00020       -0.00055         -0.010           0.200   \n",
       "1          1.230       0.00066       -0.00105          0.390           0.000   \n",
       "2          0.002       0.00302       -0.00142         -0.249           0.147   \n",
       "3          0.230       0.00008       -0.00007          0.030          -0.090   \n",
       "4         24.090       0.00303       -0.00555         -4.506           7.710   \n",
       "\n",
       "   koi_dicco_msky  koi_dikco_mra  koi_dikco_mdec  koi_dikco_msky  \n",
       "0           0.200          0.080           0.310           0.320  \n",
       "1           0.390          0.490           0.120           0.500  \n",
       "2           0.289         -0.257           0.099           0.276  \n",
       "3           0.100          0.070           0.020           0.070  \n",
       "4           8.930         -4.537           7.713           8.948  \n",
       "\n",
       "[5 rows x 43 columns]"
      ]
     },
     "execution_count": 2,
     "metadata": {},
     "output_type": "execute_result"
    }
   ],
   "source": [
    "np.random.seed(10) # Setando semente para que a parte randômica o código seja reproduzida sempre igual!\n",
    "\n",
    "# Carregando os dados (devem estar no mesmo diretório do notebook para que funcione!)\n",
    "df = pd.read_csv('./koi_data.csv')\n",
    "\n",
    "# Print das 5 primeiras linhas do dataframe.\n",
    "df.head()"
   ]
  },
  {
   "cell_type": "markdown",
   "metadata": {},
   "source": [
    "Como para esse trabalho a base de dados foi dita como conferida, não serão realizadas análises exploratórias descritivas profundas. No entanto, ressalta-se que a variável binária para a qual os modelos serão ajustados é chamada de `koi_disposition` e apresenta duas classes: <font color='red'>'CONFIRMED'</font> e <font color='red'>'FALSE POSITIVE'</font>."
   ]
  },
  {
   "cell_type": "code",
   "execution_count": 3,
   "metadata": {},
   "outputs": [
    {
     "name": "stdout",
     "output_type": "stream",
     "text": [
      "CONFIRMED: 0.4044598231449443\n",
      "FALSE POSITIVE: 0.5955401768550558\n"
     ]
    }
   ],
   "source": [
    "# Calculando a porcentagem de cada caso para a variável resposta.\n",
    "p_confirmed = len(df[df['koi_disposition'] == 'CONFIRMED'])/len(df) ## Percentual de 'CONFIRMED'\n",
    "p_false =  len(df[df['koi_disposition'] == 'FALSE POSITIVE'])/len(df) ## Percentual de 'FALSE POSITIVE'\n",
    "\n",
    "# Printando os valores\n",
    "print('CONFIRMED:', p_confirmed) \n",
    "print('FALSE POSITIVE:', p_false)"
   ]
  },
  {
   "cell_type": "markdown",
   "metadata": {},
   "source": [
    "Calculando as proporções das classes que compõem a variável de interesse, notamos que se trata de um problema relativamente balanceado, de proporção aproximada de 60/40, com mais casos da categoria 'FALSE POSITIVE'.\n",
    "\n",
    "A seguir, são apresentados os valores relativos à média, desvio-padrão e quartis para as variáveis (features) numéricas. Nota-se que 41 das features são numéricas, e como temos um total de 43 colunas, apenas as 2 primeiras são categóricas."
   ]
  },
  {
   "cell_type": "code",
   "execution_count": 4,
   "metadata": {},
   "outputs": [
    {
     "data": {
      "text/html": [
       "<div>\n",
       "<style>\n",
       "    .dataframe thead tr:only-child th {\n",
       "        text-align: right;\n",
       "    }\n",
       "\n",
       "    .dataframe thead th {\n",
       "        text-align: left;\n",
       "    }\n",
       "\n",
       "    .dataframe tbody tr th {\n",
       "        vertical-align: top;\n",
       "    }\n",
       "</style>\n",
       "<table border=\"1\" class=\"dataframe\">\n",
       "  <thead>\n",
       "    <tr style=\"text-align: right;\">\n",
       "      <th></th>\n",
       "      <th>koi_period</th>\n",
       "      <th>koi_impact</th>\n",
       "      <th>koi_duration</th>\n",
       "      <th>koi_depth</th>\n",
       "      <th>koi_ror</th>\n",
       "      <th>koi_srho</th>\n",
       "      <th>koi_prad</th>\n",
       "      <th>koi_sma</th>\n",
       "      <th>koi_incl</th>\n",
       "      <th>koi_teq</th>\n",
       "      <th>...</th>\n",
       "      <th>koi_fwm_srao</th>\n",
       "      <th>koi_fwm_sdeco</th>\n",
       "      <th>koi_fwm_prao</th>\n",
       "      <th>koi_fwm_pdeco</th>\n",
       "      <th>koi_dicco_mra</th>\n",
       "      <th>koi_dicco_mdec</th>\n",
       "      <th>koi_dicco_msky</th>\n",
       "      <th>koi_dikco_mra</th>\n",
       "      <th>koi_dikco_mdec</th>\n",
       "      <th>koi_dikco_msky</th>\n",
       "    </tr>\n",
       "  </thead>\n",
       "  <tbody>\n",
       "    <tr>\n",
       "      <th>count</th>\n",
       "      <td>5202.000000</td>\n",
       "      <td>5202.000000</td>\n",
       "      <td>5202.000000</td>\n",
       "      <td>5202.000000</td>\n",
       "      <td>5202.000000</td>\n",
       "      <td>5202.000000</td>\n",
       "      <td>5202.000000</td>\n",
       "      <td>5202.000000</td>\n",
       "      <td>5202.000000</td>\n",
       "      <td>5202.000000</td>\n",
       "      <td>...</td>\n",
       "      <td>5202.000000</td>\n",
       "      <td>5202.000000</td>\n",
       "      <td>5202.000000</td>\n",
       "      <td>5202.000000</td>\n",
       "      <td>5202.000000</td>\n",
       "      <td>5202.000000</td>\n",
       "      <td>5202.000000</td>\n",
       "      <td>5202.000000</td>\n",
       "      <td>5202.000000</td>\n",
       "      <td>5202.000000</td>\n",
       "    </tr>\n",
       "    <tr>\n",
       "      <th>mean</th>\n",
       "      <td>37.032237</td>\n",
       "      <td>0.717106</td>\n",
       "      <td>5.607025</td>\n",
       "      <td>21340.318993</td>\n",
       "      <td>0.235205</td>\n",
       "      <td>3.415370</td>\n",
       "      <td>112.230798</td>\n",
       "      <td>0.158146</td>\n",
       "      <td>81.181413</td>\n",
       "      <td>1143.721069</td>\n",
       "      <td>...</td>\n",
       "      <td>-0.355681</td>\n",
       "      <td>-0.805629</td>\n",
       "      <td>-0.000263</td>\n",
       "      <td>0.000439</td>\n",
       "      <td>-0.049743</td>\n",
       "      <td>-0.087413</td>\n",
       "      <td>1.930251</td>\n",
       "      <td>-0.038402</td>\n",
       "      <td>-0.098738</td>\n",
       "      <td>1.920226</td>\n",
       "    </tr>\n",
       "    <tr>\n",
       "      <th>std</th>\n",
       "      <td>88.417985</td>\n",
       "      <td>2.628207</td>\n",
       "      <td>6.962634</td>\n",
       "      <td>66989.808550</td>\n",
       "      <td>2.586213</td>\n",
       "      <td>25.131368</td>\n",
       "      <td>3699.799318</td>\n",
       "      <td>0.241792</td>\n",
       "      <td>16.308839</td>\n",
       "      <td>775.788868</td>\n",
       "      <td>...</td>\n",
       "      <td>10.978677</td>\n",
       "      <td>14.741473</td>\n",
       "      <td>0.065707</td>\n",
       "      <td>0.077519</td>\n",
       "      <td>2.465670</td>\n",
       "      <td>2.746534</td>\n",
       "      <td>3.147553</td>\n",
       "      <td>2.465094</td>\n",
       "      <td>2.734732</td>\n",
       "      <td>3.142764</td>\n",
       "    </tr>\n",
       "    <tr>\n",
       "      <th>min</th>\n",
       "      <td>0.306940</td>\n",
       "      <td>0.000000</td>\n",
       "      <td>0.104600</td>\n",
       "      <td>0.800000</td>\n",
       "      <td>0.001290</td>\n",
       "      <td>0.000040</td>\n",
       "      <td>0.080000</td>\n",
       "      <td>0.007200</td>\n",
       "      <td>2.290000</td>\n",
       "      <td>92.000000</td>\n",
       "      <td>...</td>\n",
       "      <td>-275.600000</td>\n",
       "      <td>-397.620000</td>\n",
       "      <td>-4.000000</td>\n",
       "      <td>-0.800000</td>\n",
       "      <td>-21.500000</td>\n",
       "      <td>-75.900000</td>\n",
       "      <td>0.000000</td>\n",
       "      <td>-23.600000</td>\n",
       "      <td>-76.600000</td>\n",
       "      <td>0.000000</td>\n",
       "    </tr>\n",
       "    <tr>\n",
       "      <th>25%</th>\n",
       "      <td>2.213962</td>\n",
       "      <td>0.226000</td>\n",
       "      <td>2.500250</td>\n",
       "      <td>176.800000</td>\n",
       "      <td>0.013058</td>\n",
       "      <td>0.176092</td>\n",
       "      <td>1.460000</td>\n",
       "      <td>0.033000</td>\n",
       "      <td>81.930000</td>\n",
       "      <td>615.250000</td>\n",
       "      <td>...</td>\n",
       "      <td>-0.500000</td>\n",
       "      <td>-0.570000</td>\n",
       "      <td>-0.000240</td>\n",
       "      <td>-0.000240</td>\n",
       "      <td>-0.270000</td>\n",
       "      <td>-0.291500</td>\n",
       "      <td>0.128250</td>\n",
       "      <td>-0.265250</td>\n",
       "      <td>-0.320000</td>\n",
       "      <td>0.180000</td>\n",
       "    </tr>\n",
       "    <tr>\n",
       "      <th>50%</th>\n",
       "      <td>7.386755</td>\n",
       "      <td>0.610000</td>\n",
       "      <td>3.805500</td>\n",
       "      <td>495.950000</td>\n",
       "      <td>0.024185</td>\n",
       "      <td>0.748045</td>\n",
       "      <td>2.600000</td>\n",
       "      <td>0.073650</td>\n",
       "      <td>87.890000</td>\n",
       "      <td>948.000000</td>\n",
       "      <td>...</td>\n",
       "      <td>0.000000</td>\n",
       "      <td>-0.030000</td>\n",
       "      <td>0.000000</td>\n",
       "      <td>0.000000</td>\n",
       "      <td>0.000000</td>\n",
       "      <td>0.000000</td>\n",
       "      <td>0.460000</td>\n",
       "      <td>-0.007000</td>\n",
       "      <td>-0.018000</td>\n",
       "      <td>0.453000</td>\n",
       "    </tr>\n",
       "    <tr>\n",
       "      <th>75%</th>\n",
       "      <td>23.448117</td>\n",
       "      <td>0.923750</td>\n",
       "      <td>6.000750</td>\n",
       "      <td>2120.525000</td>\n",
       "      <td>0.171260</td>\n",
       "      <td>2.267063</td>\n",
       "      <td>21.645000</td>\n",
       "      <td>0.158200</td>\n",
       "      <td>89.520000</td>\n",
       "      <td>1482.000000</td>\n",
       "      <td>...</td>\n",
       "      <td>0.500000</td>\n",
       "      <td>0.450000</td>\n",
       "      <td>0.000260</td>\n",
       "      <td>0.000280</td>\n",
       "      <td>0.230000</td>\n",
       "      <td>0.230000</td>\n",
       "      <td>2.570000</td>\n",
       "      <td>0.226250</td>\n",
       "      <td>0.250000</td>\n",
       "      <td>2.420000</td>\n",
       "    </tr>\n",
       "    <tr>\n",
       "      <th>max</th>\n",
       "      <td>1071.232620</td>\n",
       "      <td>100.806000</td>\n",
       "      <td>138.540000</td>\n",
       "      <td>864260.000000</td>\n",
       "      <td>99.870650</td>\n",
       "      <td>918.752390</td>\n",
       "      <td>200346.000000</td>\n",
       "      <td>2.034500</td>\n",
       "      <td>90.000000</td>\n",
       "      <td>9791.000000</td>\n",
       "      <td>...</td>\n",
       "      <td>97.780000</td>\n",
       "      <td>98.780000</td>\n",
       "      <td>1.190000</td>\n",
       "      <td>5.000000</td>\n",
       "      <td>45.680000</td>\n",
       "      <td>27.500000</td>\n",
       "      <td>88.600000</td>\n",
       "      <td>46.570000</td>\n",
       "      <td>31.200000</td>\n",
       "      <td>89.600000</td>\n",
       "    </tr>\n",
       "  </tbody>\n",
       "</table>\n",
       "<p>8 rows × 41 columns</p>\n",
       "</div>"
      ],
      "text/plain": [
       "        koi_period   koi_impact  koi_duration      koi_depth      koi_ror  \\\n",
       "count  5202.000000  5202.000000   5202.000000    5202.000000  5202.000000   \n",
       "mean     37.032237     0.717106      5.607025   21340.318993     0.235205   \n",
       "std      88.417985     2.628207      6.962634   66989.808550     2.586213   \n",
       "min       0.306940     0.000000      0.104600       0.800000     0.001290   \n",
       "25%       2.213962     0.226000      2.500250     176.800000     0.013058   \n",
       "50%       7.386755     0.610000      3.805500     495.950000     0.024185   \n",
       "75%      23.448117     0.923750      6.000750    2120.525000     0.171260   \n",
       "max    1071.232620   100.806000    138.540000  864260.000000    99.870650   \n",
       "\n",
       "          koi_srho       koi_prad      koi_sma     koi_incl      koi_teq  \\\n",
       "count  5202.000000    5202.000000  5202.000000  5202.000000  5202.000000   \n",
       "mean      3.415370     112.230798     0.158146    81.181413  1143.721069   \n",
       "std      25.131368    3699.799318     0.241792    16.308839   775.788868   \n",
       "min       0.000040       0.080000     0.007200     2.290000    92.000000   \n",
       "25%       0.176092       1.460000     0.033000    81.930000   615.250000   \n",
       "50%       0.748045       2.600000     0.073650    87.890000   948.000000   \n",
       "75%       2.267063      21.645000     0.158200    89.520000  1482.000000   \n",
       "max     918.752390  200346.000000     2.034500    90.000000  9791.000000   \n",
       "\n",
       "            ...        koi_fwm_srao  koi_fwm_sdeco  koi_fwm_prao  \\\n",
       "count       ...         5202.000000    5202.000000   5202.000000   \n",
       "mean        ...           -0.355681      -0.805629     -0.000263   \n",
       "std         ...           10.978677      14.741473      0.065707   \n",
       "min         ...         -275.600000    -397.620000     -4.000000   \n",
       "25%         ...           -0.500000      -0.570000     -0.000240   \n",
       "50%         ...            0.000000      -0.030000      0.000000   \n",
       "75%         ...            0.500000       0.450000      0.000260   \n",
       "max         ...           97.780000      98.780000      1.190000   \n",
       "\n",
       "       koi_fwm_pdeco  koi_dicco_mra  koi_dicco_mdec  koi_dicco_msky  \\\n",
       "count    5202.000000    5202.000000     5202.000000     5202.000000   \n",
       "mean        0.000439      -0.049743       -0.087413        1.930251   \n",
       "std         0.077519       2.465670        2.746534        3.147553   \n",
       "min        -0.800000     -21.500000      -75.900000        0.000000   \n",
       "25%        -0.000240      -0.270000       -0.291500        0.128250   \n",
       "50%         0.000000       0.000000        0.000000        0.460000   \n",
       "75%         0.000280       0.230000        0.230000        2.570000   \n",
       "max         5.000000      45.680000       27.500000       88.600000   \n",
       "\n",
       "       koi_dikco_mra  koi_dikco_mdec  koi_dikco_msky  \n",
       "count    5202.000000     5202.000000     5202.000000  \n",
       "mean       -0.038402       -0.098738        1.920226  \n",
       "std         2.465094        2.734732        3.142764  \n",
       "min       -23.600000      -76.600000        0.000000  \n",
       "25%        -0.265250       -0.320000        0.180000  \n",
       "50%        -0.007000       -0.018000        0.453000  \n",
       "75%         0.226250        0.250000        2.420000  \n",
       "max        46.570000       31.200000       89.600000  \n",
       "\n",
       "[8 rows x 41 columns]"
      ]
     },
     "execution_count": 4,
     "metadata": {},
     "output_type": "execute_result"
    }
   ],
   "source": [
    "# Algumas estatísticas das variáveis numéricas\n",
    "df.describe()"
   ]
  },
  {
   "cell_type": "markdown",
   "metadata": {},
   "source": [
    "Como a primeira coluna do dataframe constitui à identificação de cada objeto, essa será removida do dataframe. "
   ]
  },
  {
   "cell_type": "code",
   "execution_count": 5,
   "metadata": {},
   "outputs": [
    {
     "data": {
      "text/html": [
       "<div>\n",
       "<style>\n",
       "    .dataframe thead tr:only-child th {\n",
       "        text-align: right;\n",
       "    }\n",
       "\n",
       "    .dataframe thead th {\n",
       "        text-align: left;\n",
       "    }\n",
       "\n",
       "    .dataframe tbody tr th {\n",
       "        vertical-align: top;\n",
       "    }\n",
       "</style>\n",
       "<table border=\"1\" class=\"dataframe\">\n",
       "  <thead>\n",
       "    <tr style=\"text-align: right;\">\n",
       "      <th></th>\n",
       "      <th>koi_disposition</th>\n",
       "      <th>koi_period</th>\n",
       "      <th>koi_impact</th>\n",
       "      <th>koi_duration</th>\n",
       "      <th>koi_depth</th>\n",
       "      <th>koi_ror</th>\n",
       "      <th>koi_srho</th>\n",
       "      <th>koi_prad</th>\n",
       "      <th>koi_sma</th>\n",
       "      <th>koi_incl</th>\n",
       "      <th>...</th>\n",
       "      <th>koi_fwm_srao</th>\n",
       "      <th>koi_fwm_sdeco</th>\n",
       "      <th>koi_fwm_prao</th>\n",
       "      <th>koi_fwm_pdeco</th>\n",
       "      <th>koi_dicco_mra</th>\n",
       "      <th>koi_dicco_mdec</th>\n",
       "      <th>koi_dicco_msky</th>\n",
       "      <th>koi_dikco_mra</th>\n",
       "      <th>koi_dikco_mdec</th>\n",
       "      <th>koi_dikco_msky</th>\n",
       "    </tr>\n",
       "  </thead>\n",
       "  <tbody>\n",
       "    <tr>\n",
       "      <th>0</th>\n",
       "      <td>CONFIRMED</td>\n",
       "      <td>9.48804</td>\n",
       "      <td>0.146</td>\n",
       "      <td>2.95750</td>\n",
       "      <td>615.8</td>\n",
       "      <td>0.02234</td>\n",
       "      <td>3.20796</td>\n",
       "      <td>2.26</td>\n",
       "      <td>0.0853</td>\n",
       "      <td>89.66</td>\n",
       "      <td>...</td>\n",
       "      <td>0.430</td>\n",
       "      <td>0.940</td>\n",
       "      <td>-0.00020</td>\n",
       "      <td>-0.00055</td>\n",
       "      <td>-0.010</td>\n",
       "      <td>0.200</td>\n",
       "      <td>0.200</td>\n",
       "      <td>0.080</td>\n",
       "      <td>0.310</td>\n",
       "      <td>0.320</td>\n",
       "    </tr>\n",
       "    <tr>\n",
       "      <th>1</th>\n",
       "      <td>CONFIRMED</td>\n",
       "      <td>54.41838</td>\n",
       "      <td>0.586</td>\n",
       "      <td>4.50700</td>\n",
       "      <td>874.8</td>\n",
       "      <td>0.02795</td>\n",
       "      <td>3.02368</td>\n",
       "      <td>2.83</td>\n",
       "      <td>0.2734</td>\n",
       "      <td>89.57</td>\n",
       "      <td>...</td>\n",
       "      <td>-0.630</td>\n",
       "      <td>1.230</td>\n",
       "      <td>0.00066</td>\n",
       "      <td>-0.00105</td>\n",
       "      <td>0.390</td>\n",
       "      <td>0.000</td>\n",
       "      <td>0.390</td>\n",
       "      <td>0.490</td>\n",
       "      <td>0.120</td>\n",
       "      <td>0.500</td>\n",
       "    </tr>\n",
       "    <tr>\n",
       "      <th>2</th>\n",
       "      <td>FALSE POSITIVE</td>\n",
       "      <td>1.73695</td>\n",
       "      <td>1.276</td>\n",
       "      <td>2.40641</td>\n",
       "      <td>8079.2</td>\n",
       "      <td>0.38739</td>\n",
       "      <td>0.22080</td>\n",
       "      <td>33.46</td>\n",
       "      <td>0.0267</td>\n",
       "      <td>67.09</td>\n",
       "      <td>...</td>\n",
       "      <td>-0.111</td>\n",
       "      <td>0.002</td>\n",
       "      <td>0.00302</td>\n",
       "      <td>-0.00142</td>\n",
       "      <td>-0.249</td>\n",
       "      <td>0.147</td>\n",
       "      <td>0.289</td>\n",
       "      <td>-0.257</td>\n",
       "      <td>0.099</td>\n",
       "      <td>0.276</td>\n",
       "    </tr>\n",
       "    <tr>\n",
       "      <th>3</th>\n",
       "      <td>CONFIRMED</td>\n",
       "      <td>2.52559</td>\n",
       "      <td>0.701</td>\n",
       "      <td>1.65450</td>\n",
       "      <td>603.3</td>\n",
       "      <td>0.02406</td>\n",
       "      <td>1.98635</td>\n",
       "      <td>2.75</td>\n",
       "      <td>0.0374</td>\n",
       "      <td>85.41</td>\n",
       "      <td>...</td>\n",
       "      <td>-0.010</td>\n",
       "      <td>0.230</td>\n",
       "      <td>0.00008</td>\n",
       "      <td>-0.00007</td>\n",
       "      <td>0.030</td>\n",
       "      <td>-0.090</td>\n",
       "      <td>0.100</td>\n",
       "      <td>0.070</td>\n",
       "      <td>0.020</td>\n",
       "      <td>0.070</td>\n",
       "    </tr>\n",
       "    <tr>\n",
       "      <th>4</th>\n",
       "      <td>FALSE POSITIVE</td>\n",
       "      <td>7.36179</td>\n",
       "      <td>1.169</td>\n",
       "      <td>5.02200</td>\n",
       "      <td>233.7</td>\n",
       "      <td>0.18339</td>\n",
       "      <td>0.00485</td>\n",
       "      <td>39.21</td>\n",
       "      <td>0.0820</td>\n",
       "      <td>60.92</td>\n",
       "      <td>...</td>\n",
       "      <td>-13.450</td>\n",
       "      <td>24.090</td>\n",
       "      <td>0.00303</td>\n",
       "      <td>-0.00555</td>\n",
       "      <td>-4.506</td>\n",
       "      <td>7.710</td>\n",
       "      <td>8.930</td>\n",
       "      <td>-4.537</td>\n",
       "      <td>7.713</td>\n",
       "      <td>8.948</td>\n",
       "    </tr>\n",
       "  </tbody>\n",
       "</table>\n",
       "<p>5 rows × 42 columns</p>\n",
       "</div>"
      ],
      "text/plain": [
       "  koi_disposition  koi_period  koi_impact  koi_duration  koi_depth  koi_ror  \\\n",
       "0       CONFIRMED     9.48804       0.146       2.95750      615.8  0.02234   \n",
       "1       CONFIRMED    54.41838       0.586       4.50700      874.8  0.02795   \n",
       "2  FALSE POSITIVE     1.73695       1.276       2.40641     8079.2  0.38739   \n",
       "3       CONFIRMED     2.52559       0.701       1.65450      603.3  0.02406   \n",
       "4  FALSE POSITIVE     7.36179       1.169       5.02200      233.7  0.18339   \n",
       "\n",
       "   koi_srho  koi_prad  koi_sma  koi_incl       ...        koi_fwm_srao  \\\n",
       "0   3.20796      2.26   0.0853     89.66       ...               0.430   \n",
       "1   3.02368      2.83   0.2734     89.57       ...              -0.630   \n",
       "2   0.22080     33.46   0.0267     67.09       ...              -0.111   \n",
       "3   1.98635      2.75   0.0374     85.41       ...              -0.010   \n",
       "4   0.00485     39.21   0.0820     60.92       ...             -13.450   \n",
       "\n",
       "   koi_fwm_sdeco  koi_fwm_prao  koi_fwm_pdeco  koi_dicco_mra  koi_dicco_mdec  \\\n",
       "0          0.940      -0.00020       -0.00055         -0.010           0.200   \n",
       "1          1.230       0.00066       -0.00105          0.390           0.000   \n",
       "2          0.002       0.00302       -0.00142         -0.249           0.147   \n",
       "3          0.230       0.00008       -0.00007          0.030          -0.090   \n",
       "4         24.090       0.00303       -0.00555         -4.506           7.710   \n",
       "\n",
       "   koi_dicco_msky  koi_dikco_mra  koi_dikco_mdec  koi_dikco_msky  \n",
       "0           0.200          0.080           0.310           0.320  \n",
       "1           0.390          0.490           0.120           0.500  \n",
       "2           0.289         -0.257           0.099           0.276  \n",
       "3           0.100          0.070           0.020           0.070  \n",
       "4           8.930         -4.537           7.713           8.948  \n",
       "\n",
       "[5 rows x 42 columns]"
      ]
     },
     "execution_count": 5,
     "metadata": {},
     "output_type": "execute_result"
    }
   ],
   "source": [
    "# Alterando index (rodar apenas uma vez, se rodar duas retornará erro)\n",
    "df = df.drop('kepoi_name', axis=1)\n",
    "df.head()"
   ]
  },
  {
   "cell_type": "markdown",
   "metadata": {},
   "source": [
    "Por fim, transformaremos a variável de interesse de forma que os falsos positivos serão 0 e os exoplanetas verdadeiros serão 1."
   ]
  },
  {
   "cell_type": "code",
   "execution_count": 6,
   "metadata": {},
   "outputs": [],
   "source": [
    "# Cria-se um for para analisar cada caso da variável 'koi_disposition'. Se for 'CONFIRMED' atribuímos 1, caso contrátrio 0.\n",
    "result = []\n",
    "for i in range(len(df)):\n",
    "    if df['koi_disposition'][i] == 'CONFIRMED':\n",
    "        result.append(1)\n",
    "    else:\n",
    "        result.append(0)\n",
    "        \n",
    "# Em seguida substituímos os valores no dataframe\n",
    "df['koi_disposition'] = result"
   ]
  },
  {
   "cell_type": "markdown",
   "metadata": {},
   "source": [
    "## 3. Métodos"
   ]
  },
  {
   "cell_type": "markdown",
   "metadata": {},
   "source": [
    "Nessa seção será apresentado o desenvolvimento de todos os métodos a serem aplicados, em subseções, bem como uma breve descrição de cada algoritmo. Para cada algortimo, primeiro selecionaremos os melhores parâmetro por cross-validation e após realizarmos isso para todos os modelos, iremos comparar os modelos selecionados no fim desse trabalho."
   ]
  },
  {
   "cell_type": "markdown",
   "metadata": {},
   "source": [
    "### 3.1 Naive Bayes"
   ]
  },
  {
   "cell_type": "markdown",
   "metadata": {},
   "source": [
    "O Naive Bayes consiste em um algoritmo com uma abordagem probabilística para problemas de classificação. Podemos descrever o algoritmo em 2 etapas:\n",
    "\n",
    "- Estima-se a distribuição de probabilidade a partir dos dados observados;\n",
    "- Para um determinado conjunto de features $X$, estima-se sua classe com base em $\\hat{y} = argmax(p_\\theta(y|X))$.\n",
    "\n",
    "Como podemos notar pelos passos do algoritmo, para estimar a probabilidade de pertencimento a uma dada classe é necessário saber todas as combinações das features. Para um problema com muitas features, ou no caso em que uma determinada feature $x_i$ possa assumir muitos valores, isso torna-se caro computacionalmente.\n",
    "\n",
    "Para contornar tal problema, utiliza-se o Teorema de Bayes, que relaciona uma probabilidade condicional conforme apresentado na equação a seguir:\n",
    "\n",
    "$$p(y|X) = \\frac{p(y)p(X|y)}{p(X)}.$$\n",
    "\n",
    "Assim, reformula-se o problema de maneira a deixá-lo mais viável para se encontrar uma solução para cada caso. Como ônus, têm-se a suposição de independência condicional, isto é, os valores de uma feature $x_i$ devem ser independentes dos valores das demais. Caso contrário, tem-se um problema de multicolinearidade, muito estudado em regressão linear.\n",
    "\n",
    "Aqui, será aplicado um experimento com base no Naive Bayes como baseline para o estudo do problema. Como utilizaremos a função GaussianNB do pacote sklearn, primeiramente iremos normalizar as variáveis do nosso dataframe, com exceção da variável de interesse."
   ]
  },
  {
   "cell_type": "code",
   "execution_count": 7,
   "metadata": {},
   "outputs": [
    {
     "data": {
      "text/html": [
       "<div>\n",
       "<style>\n",
       "    .dataframe thead tr:only-child th {\n",
       "        text-align: right;\n",
       "    }\n",
       "\n",
       "    .dataframe thead th {\n",
       "        text-align: left;\n",
       "    }\n",
       "\n",
       "    .dataframe tbody tr th {\n",
       "        vertical-align: top;\n",
       "    }\n",
       "</style>\n",
       "<table border=\"1\" class=\"dataframe\">\n",
       "  <thead>\n",
       "    <tr style=\"text-align: right;\">\n",
       "      <th></th>\n",
       "      <th>koi_disposition</th>\n",
       "      <th>koi_period</th>\n",
       "      <th>koi_impact</th>\n",
       "      <th>koi_duration</th>\n",
       "      <th>koi_depth</th>\n",
       "      <th>koi_ror</th>\n",
       "      <th>koi_srho</th>\n",
       "      <th>koi_prad</th>\n",
       "      <th>koi_sma</th>\n",
       "      <th>koi_incl</th>\n",
       "      <th>...</th>\n",
       "      <th>koi_fwm_srao</th>\n",
       "      <th>koi_fwm_sdeco</th>\n",
       "      <th>koi_fwm_prao</th>\n",
       "      <th>koi_fwm_pdeco</th>\n",
       "      <th>koi_dicco_mra</th>\n",
       "      <th>koi_dicco_mdec</th>\n",
       "      <th>koi_dicco_msky</th>\n",
       "      <th>koi_dikco_mra</th>\n",
       "      <th>koi_dikco_mdec</th>\n",
       "      <th>koi_dikco_msky</th>\n",
       "    </tr>\n",
       "  </thead>\n",
       "  <tbody>\n",
       "    <tr>\n",
       "      <th>0</th>\n",
       "      <td>1</td>\n",
       "      <td>-0.311523</td>\n",
       "      <td>-0.217299</td>\n",
       "      <td>-0.380535</td>\n",
       "      <td>-0.309368</td>\n",
       "      <td>-0.082308</td>\n",
       "      <td>-0.008253</td>\n",
       "      <td>-0.029723</td>\n",
       "      <td>-0.301276</td>\n",
       "      <td>0.519877</td>\n",
       "      <td>...</td>\n",
       "      <td>0.071564</td>\n",
       "      <td>0.118416</td>\n",
       "      <td>0.000962</td>\n",
       "      <td>-0.012755</td>\n",
       "      <td>0.016119</td>\n",
       "      <td>0.104646</td>\n",
       "      <td>-0.549713</td>\n",
       "      <td>0.048032</td>\n",
       "      <td>0.149462</td>\n",
       "      <td>-0.509178</td>\n",
       "    </tr>\n",
       "    <tr>\n",
       "      <th>1</th>\n",
       "      <td>1</td>\n",
       "      <td>0.196636</td>\n",
       "      <td>-0.049884</td>\n",
       "      <td>-0.157990</td>\n",
       "      <td>-0.305502</td>\n",
       "      <td>-0.080138</td>\n",
       "      <td>-0.015586</td>\n",
       "      <td>-0.029569</td>\n",
       "      <td>0.476664</td>\n",
       "      <td>0.514358</td>\n",
       "      <td>...</td>\n",
       "      <td>-0.024986</td>\n",
       "      <td>0.138089</td>\n",
       "      <td>0.014050</td>\n",
       "      <td>-0.019205</td>\n",
       "      <td>0.178346</td>\n",
       "      <td>0.031827</td>\n",
       "      <td>-0.489349</td>\n",
       "      <td>0.214354</td>\n",
       "      <td>0.079985</td>\n",
       "      <td>-0.451904</td>\n",
       "    </tr>\n",
       "    <tr>\n",
       "      <th>2</th>\n",
       "      <td>0</td>\n",
       "      <td>-0.399187</td>\n",
       "      <td>0.212652</td>\n",
       "      <td>-0.459685</td>\n",
       "      <td>-0.197957</td>\n",
       "      <td>0.058845</td>\n",
       "      <td>-0.127115</td>\n",
       "      <td>-0.021291</td>\n",
       "      <td>-0.543633</td>\n",
       "      <td>-0.864035</td>\n",
       "      <td>...</td>\n",
       "      <td>0.022287</td>\n",
       "      <td>0.054786</td>\n",
       "      <td>0.049967</td>\n",
       "      <td>-0.023978</td>\n",
       "      <td>-0.080812</td>\n",
       "      <td>0.085349</td>\n",
       "      <td>-0.521437</td>\n",
       "      <td>-0.088677</td>\n",
       "      <td>0.072306</td>\n",
       "      <td>-0.523178</td>\n",
       "    </tr>\n",
       "    <tr>\n",
       "      <th>3</th>\n",
       "      <td>1</td>\n",
       "      <td>-0.390267</td>\n",
       "      <td>-0.006128</td>\n",
       "      <td>-0.567677</td>\n",
       "      <td>-0.309555</td>\n",
       "      <td>-0.081642</td>\n",
       "      <td>-0.056862</td>\n",
       "      <td>-0.029591</td>\n",
       "      <td>-0.499380</td>\n",
       "      <td>0.259282</td>\n",
       "      <td>...</td>\n",
       "      <td>0.031487</td>\n",
       "      <td>0.070253</td>\n",
       "      <td>0.005223</td>\n",
       "      <td>-0.006563</td>\n",
       "      <td>0.032341</td>\n",
       "      <td>-0.000942</td>\n",
       "      <td>-0.581484</td>\n",
       "      <td>0.043975</td>\n",
       "      <td>0.043418</td>\n",
       "      <td>-0.588726</td>\n",
       "    </tr>\n",
       "    <tr>\n",
       "      <th>4</th>\n",
       "      <td>0</td>\n",
       "      <td>-0.335570</td>\n",
       "      <td>0.171940</td>\n",
       "      <td>-0.084024</td>\n",
       "      <td>-0.315072</td>\n",
       "      <td>-0.020035</td>\n",
       "      <td>-0.135708</td>\n",
       "      <td>-0.019736</td>\n",
       "      <td>-0.314924</td>\n",
       "      <td>-1.242358</td>\n",
       "      <td>...</td>\n",
       "      <td>-1.192705</td>\n",
       "      <td>1.688816</td>\n",
       "      <td>0.050119</td>\n",
       "      <td>-0.077256</td>\n",
       "      <td>-1.807321</td>\n",
       "      <td>2.839001</td>\n",
       "      <td>2.223870</td>\n",
       "      <td>-1.824919</td>\n",
       "      <td>2.856491</td>\n",
       "      <td>2.236176</td>\n",
       "    </tr>\n",
       "  </tbody>\n",
       "</table>\n",
       "<p>5 rows × 42 columns</p>\n",
       "</div>"
      ],
      "text/plain": [
       "   koi_disposition  koi_period  koi_impact  koi_duration  koi_depth   koi_ror  \\\n",
       "0                1   -0.311523   -0.217299     -0.380535  -0.309368 -0.082308   \n",
       "1                1    0.196636   -0.049884     -0.157990  -0.305502 -0.080138   \n",
       "2                0   -0.399187    0.212652     -0.459685  -0.197957  0.058845   \n",
       "3                1   -0.390267   -0.006128     -0.567677  -0.309555 -0.081642   \n",
       "4                0   -0.335570    0.171940     -0.084024  -0.315072 -0.020035   \n",
       "\n",
       "   koi_srho  koi_prad   koi_sma  koi_incl       ...        koi_fwm_srao  \\\n",
       "0 -0.008253 -0.029723 -0.301276  0.519877       ...            0.071564   \n",
       "1 -0.015586 -0.029569  0.476664  0.514358       ...           -0.024986   \n",
       "2 -0.127115 -0.021291 -0.543633 -0.864035       ...            0.022287   \n",
       "3 -0.056862 -0.029591 -0.499380  0.259282       ...            0.031487   \n",
       "4 -0.135708 -0.019736 -0.314924 -1.242358       ...           -1.192705   \n",
       "\n",
       "   koi_fwm_sdeco  koi_fwm_prao  koi_fwm_pdeco  koi_dicco_mra  koi_dicco_mdec  \\\n",
       "0       0.118416      0.000962      -0.012755       0.016119        0.104646   \n",
       "1       0.138089      0.014050      -0.019205       0.178346        0.031827   \n",
       "2       0.054786      0.049967      -0.023978      -0.080812        0.085349   \n",
       "3       0.070253      0.005223      -0.006563       0.032341       -0.000942   \n",
       "4       1.688816      0.050119      -0.077256      -1.807321        2.839001   \n",
       "\n",
       "   koi_dicco_msky  koi_dikco_mra  koi_dikco_mdec  koi_dikco_msky  \n",
       "0       -0.549713       0.048032        0.149462       -0.509178  \n",
       "1       -0.489349       0.214354        0.079985       -0.451904  \n",
       "2       -0.521437      -0.088677        0.072306       -0.523178  \n",
       "3       -0.581484       0.043975        0.043418       -0.588726  \n",
       "4        2.223870      -1.824919        2.856491        2.236176  \n",
       "\n",
       "[5 rows x 42 columns]"
      ]
     },
     "execution_count": 7,
     "metadata": {},
     "output_type": "execute_result"
    }
   ],
   "source": [
    "# Definindo a função de normalização\n",
    "def normalization(x):\n",
    "    xn = (x-x.mean())/x.std()\n",
    "    return xn\n",
    "\n",
    "# Aplicando a normalização aos dados\n",
    "df_n = normalization(df.iloc[:,1:])\n",
    "\n",
    "# Adicionando a variável resposta\n",
    "df_n = pd.DataFrame(pd.concat([df['koi_disposition'], df_n], axis=1))\n",
    "\n",
    "df_n.head()"
   ]
  },
  {
   "cell_type": "markdown",
   "metadata": {},
   "source": [
    "Após aplicarmos a função `normalization` definida, todas as variáveis seguem uma distrição normal padrão, isso é, possuem média 0 e desvio-padrão 1. Sendo assim, prosseguimos para o segundo passo antes de implementar o algoritmo, a separação em treino e teste. Como possuímos um número relativamente grande de observações, utilizaremos 60% da base de dados como treinamento e 40% como teste."
   ]
  },
  {
   "cell_type": "code",
   "execution_count": 8,
   "metadata": {},
   "outputs": [],
   "source": [
    "# Separando em treino e teste\n",
    "idx = list(df_n.index)                            # lista os indexes\n",
    "np.random.shuffle(idx)                            # embaralha os index\n",
    "train, test = df_n[:int(0.6*len(idx))], df_n[int(0.6*len(idx)):]              # seleciona os 60% e os 40%. (NORMALIZADO)\n",
    "\n",
    "# Separando em y e X com normalização\n",
    "train_x, train_y = train.iloc[:,1:], train['koi_disposition']\n",
    "test_x, test_y = test.iloc[:,1:], test['koi_disposition']"
   ]
  },
  {
   "cell_type": "code",
   "execution_count": 9,
   "metadata": {},
   "outputs": [],
   "source": [
    "from sklearn.naive_bayes import GaussianNB\n",
    "\n",
    "# Criando um classificador gaussiano\n",
    "model_nb = GaussianNB()\n",
    "\n",
    "# Treinando o modelo\n",
    "model_nb.fit(train_x, train_y)\n",
    "\n",
    "# Predict Output\n",
    "y_pred_test = model_nb.predict(test_x)\n",
    "y_pred_train = model_nb.predict(train_x)"
   ]
  },
  {
   "cell_type": "code",
   "execution_count": 10,
   "metadata": {},
   "outputs": [
    {
     "name": "stdout",
     "output_type": "stream",
     "text": [
      "Acurácia Train: 0.938481256008\n",
      "Acurácia Test: 0.910139356079\n",
      "Precision: 0.425170068027\n",
      "Recall: 0.874125874126\n"
     ]
    }
   ],
   "source": [
    "# Calculando a acurácia, precisão e recall\n",
    "print('Acurácia Train:', metrics.accuracy_score(train_y, y_pred_train))\n",
    "print('Acurácia Test:', metrics.accuracy_score(test_y, y_pred_test))\n",
    "print('Precision:', metrics.precision_score(test_y, y_pred_test))\n",
    "print('Recall:', metrics.recall_score(test_y, y_pred_test))"
   ]
  },
  {
   "cell_type": "markdown",
   "metadata": {},
   "source": [
    "### 3.2 Decision Tree"
   ]
  },
  {
   "cell_type": "markdown",
   "metadata": {},
   "source": [
    "Árvores de decisão são métodos de aprendizado supervisionado não-paramétrico, utilizados em tarefas de classificação e regressão. Pestana and Gageiro (2009) mostram que este método utiliza de regras de decisão simples, inferidas a partir dos dados, para prever o valor de uma variável alvo. Tais decisões geram divisões sucessivas a partir de características dos dados (fetures)."
   ]
  },
  {
   "cell_type": "markdown",
   "metadata": {},
   "source": [
    "Árvores de decisão são modelos que possuem como vantagens a simples interpretação e visualização dos resultados, sendo possível esquematizá-los de forma similar a uma árvore genealógica. Para sua separação, leva-se em conta os conceitos de entropia e pureza, esse último, aplicado no amplamente utilizado índice de Gini."
   ]
  },
  {
   "cell_type": "markdown",
   "metadata": {},
   "source": [
    "Para escolher o tamanho (profundidade) ideal do modelo (relacionado ao número de divisões das features, ou nós da árvore) é comum a aplicação de um método chamado cross-validation. De fato, esse método é amplamente utilizado para seleção de parâmetros em diversos modelos da área de *machine learning*. Por isso, o mesmo será descrito a seguir e é utilizado durante todo o trabalho, a partir desse ponto."
   ]
  },
  {
   "cell_type": "markdown",
   "metadata": {},
   "source": [
    "#### k-Fold Cross-Validation"
   ]
  },
  {
   "cell_type": "markdown",
   "metadata": {},
   "source": [
    "O processo de validação cruzada, ou cross-validation, têm como aplicação o auxílio na escolha de parâmetros de cada modelo.\n",
    "Seu funcionamento ocorre da seguinte maneira:\n",
    "1. Embaralha-se o banco de dados de forma aleatória, just in case.\n",
    "\n",
    "2. Separa-se o banco de dados em $k$ grupos.\n",
    "\n",
    "3. Para cada grupo:\n",
    "   \n",
    "   i) Seleciona-se um grupo para teste.\n",
    "   \n",
    "   ii) Seleciona-se o restante como dados de treino.\n",
    "   \n",
    "   iii) Ajusta-se um modelo sob o treino e avalie no teste.\n",
    "   \n",
    "   iv) Mantém-se a avaliação (nesse caso, a acurácia) e o parâmetro correspondente e descarta-se o modelo.\n",
    "   \n",
    "4. Replica-se o passo 3 para todos os grupos e compara-se todas a média das acurácias e seleciona-se o parâmetro que levou àquele resultado. \n",
    "5. Checa-se por *overfitting* e caso ocorra, excluímos essa possibilidade e repete-se o a partir do passo 4. Caso contrário, opta-se pelo modelo referente àquele parâmetro selecionado.\n",
    "\n",
    "**Nesse trabalho, consideraremos *overfitting* os modelos em que tivermos grande acurácia média nos bancos de treino após a cross-validation e uma diferença maior que 4% da acurácia média nos bancos de teste.**"
   ]
  },
  {
   "cell_type": "markdown",
   "metadata": {},
   "source": [
    "Quanto à sepração do banco, utilizaremos o banco com os valores não normalizados, visto que alguns estudos demonstraram que para esse tipo de algoritmo a normalização nem sempre afeta de maneira positiva o resultado. Ressalta-se que os experimentos foram realizados com os dados normalizados, e os resultados não desviaram positivamente dos encontrados com os dados em seus valores originais."
   ]
  },
  {
   "cell_type": "markdown",
   "metadata": {},
   "source": [
    "A seguir ajustamos uma árvore de decisão e aplicamos o procedimento de cross-validation para os valores relativos à profundidade de cada árvore. Tais valores foram variados de 3 a 40, dado que nesse problema, temos apenas 41 features."
   ]
  },
  {
   "cell_type": "code",
   "execution_count": 11,
   "metadata": {},
   "outputs": [],
   "source": [
    "# Bibliotecas para DT\n",
    "from sklearn.tree import DecisionTreeClassifier"
   ]
  },
  {
   "cell_type": "code",
   "execution_count": 12,
   "metadata": {},
   "outputs": [],
   "source": [
    "# Separação do banco.\n",
    "X = df.iloc[:,1:]\n",
    "y = df.iloc[:,0]"
   ]
  },
  {
   "cell_type": "code",
   "execution_count": 13,
   "metadata": {},
   "outputs": [],
   "source": [
    "# Criando os k grupos que irão receber os dados\n",
    "cv = KFold(n_splits=5, random_state=1, shuffle=False)\n",
    "\n",
    "# Cria-se uma lista com os valores para o parâmetro que queremos variar.\n",
    "sizes = list(range(3, 40))\n",
    "\n",
    "# Duas listas vazias para receberem o valores médios da acurácia para cada variação do valor do parâmetro.\n",
    "acc_test_mean = []\n",
    "acc_train_mean = []\n",
    "acc_test_sd = []\n",
    "acc_train_sd = []\n",
    "# Início de loop variando o parâmetro de interesse \n",
    "for depth in sizes:\n",
    "    acc_test = []\n",
    "    acc_train = []\n",
    "    for train_index, test_index in cv.split(X):\n",
    "        # Separando em treino e teste\n",
    "        X_train, X_test, y_train, y_test = X.loc[train_index], X.loc[test_index], y.loc[train_index], y.loc[test_index]\n",
    "\n",
    "        # Criando objeto para k-NN\n",
    "        model_dt = DecisionTreeClassifier(max_depth=depth)\n",
    "\n",
    "        # Treinando o modelo\n",
    "        model_dt.fit(X_train, y_train.values.ravel())\n",
    "\n",
    "        # Fazendo previsões\n",
    "        y_pred_test = model_dt.predict(X_test)\n",
    "        y_pred_train = model_dt.predict(X_train)\n",
    "        \n",
    "        # Calculando a acurácia para os bancos de treino e teste\n",
    "        acc_test.append(metrics.accuracy_score(y_test, y_pred_test))\n",
    "        acc_train.append(metrics.accuracy_score(y_train, y_pred_train))\n",
    "        \n",
    "    # Calculando a média e desvio padrão da acurácia\n",
    "    acc_test_mean.append(np.array(acc_test).mean())\n",
    "    acc_train_mean.append(np.array(acc_train).mean())\n",
    "    acc_test_sd.append(np.array(acc_test).std())\n",
    "    acc_train_sd.append(np.array(acc_train).std())"
   ]
  },
  {
   "cell_type": "markdown",
   "metadata": {},
   "source": [
    "Também ajustamos um modelo para quando não se restringe a profundidade da árvore. Os resultados para esse modelo foram acoplados ao dataframe dos demais resultados de modelos e é referenciado no último index."
   ]
  },
  {
   "cell_type": "code",
   "execution_count": 14,
   "metadata": {},
   "outputs": [],
   "source": [
    "for train_index, test_index in cv.split(X):\n",
    "        # Separando em treino e teste\n",
    "        X_train, X_test, y_train, y_test = X.loc[train_index], X.loc[test_index], y.loc[train_index], y.loc[test_index]\n",
    "\n",
    "        # Criando objeto para árvore de decisão\n",
    "        model_dt = DecisionTreeClassifier(max_depth=None)\n",
    "\n",
    "        # Treinando o modelo\n",
    "        model_dt.fit(X_train, y_train)\n",
    "\n",
    "        # Fazendo previsões\n",
    "        y_pred_test = model_dt.predict(X_test)\n",
    "        y_pred_train = model_dt.predict(X_train)\n",
    "        \n",
    "        # Calculando a acurácia para os bancos de treino e teste\n",
    "        acc_test.append(metrics.accuracy_score(y_test, y_pred_test))\n",
    "        acc_train.append(metrics.accuracy_score(y_train, y_pred_train))\n",
    "\n",
    "# Calculando a média e desvio padrão das acurácias\n",
    "acc_test_mean.append(np.array(acc_test).mean())\n",
    "acc_train_mean.append(np.array(acc_train).mean())\n",
    "acc_test_sd.append(np.array(acc_test).std())\n",
    "acc_train_sd.append(np.array(acc_train).std())"
   ]
  },
  {
   "cell_type": "code",
   "execution_count": 15,
   "metadata": {},
   "outputs": [],
   "source": [
    "# Adicionando o modelo com não limitação da profundidade da aŕvore como index 40.\n",
    "sizes.append(40)"
   ]
  },
  {
   "cell_type": "code",
   "execution_count": 16,
   "metadata": {},
   "outputs": [],
   "source": [
    "# Transformamos as listas com os resultados em dataframes e selecionamos como indexes o parâmetro variado nos procedimento recursivos anteriores.\n",
    "mean_test_dt = pd.DataFrame(acc_test_mean, index=sizes, columns=['acc_mean_test'])\n",
    "mean_train_dt = pd.DataFrame(acc_train_mean, index=sizes, columns=['acc_mean_train'])\n",
    "sd_train_dt = pd.DataFrame(acc_train_sd, index=sizes, columns=['sd_mean_train'])\n",
    "sd_test_dt = pd.DataFrame(acc_test_sd, index=sizes, columns=['sd_mean_test'])"
   ]
  },
  {
   "cell_type": "code",
   "execution_count": 17,
   "metadata": {},
   "outputs": [],
   "source": [
    "# Concatena e cria um dataframe com os resultados\n",
    "results_dt = pd.DataFrame(pd.concat([mean_train_dt, mean_test_dt,\n",
    "                                     sd_train_dt, sd_test_dt], axis=1))\n",
    "\n",
    "# Calculando as diferenças\n",
    "results_dt['Dif'] = results_dt['acc_mean_train'] - results_dt['acc_mean_test']"
   ]
  },
  {
   "cell_type": "code",
   "execution_count": 18,
   "metadata": {},
   "outputs": [
    {
     "data": {
      "text/plain": [
       "<matplotlib.legend.Legend at 0x7f9090756e10>"
      ]
     },
     "execution_count": 18,
     "metadata": {},
     "output_type": "execute_result"
    },
    {
     "data": {
      "image/png": "[encoded data removed]",
      "text/plain": [
       "<matplotlib.figure.Figure at 0x7f9090d8d828>"
      ]
     },
     "metadata": {},
     "output_type": "display_data"
    }
   ],
   "source": [
    "# Utilizamos as funções da biblioteca matplotlib para plotar os resultados e definir o melhor modelo\n",
    "plt.figure(figsize=(10,6))\n",
    "plt.xlabel('Profundidade')\n",
    "plt.ylabel('Acurácia Média')\n",
    "plt.title('Cross-Validation para Decision Tree')\n",
    "plt.plot(mean_test_dt, label='test')\n",
    "plt.plot(mean_train_dt, label='train')\n",
    "plt.legend()"
   ]
  },
  {
   "cell_type": "code",
   "execution_count": 19,
   "metadata": {},
   "outputs": [
    {
     "data": {
      "text/html": [
       "<div>\n",
       "<style>\n",
       "    .dataframe thead tr:only-child th {\n",
       "        text-align: right;\n",
       "    }\n",
       "\n",
       "    .dataframe thead th {\n",
       "        text-align: left;\n",
       "    }\n",
       "\n",
       "    .dataframe tbody tr th {\n",
       "        vertical-align: top;\n",
       "    }\n",
       "</style>\n",
       "<table border=\"1\" class=\"dataframe\">\n",
       "  <thead>\n",
       "    <tr style=\"text-align: right;\">\n",
       "      <th></th>\n",
       "      <th>acc_mean_train</th>\n",
       "      <th>acc_mean_test</th>\n",
       "      <th>sd_mean_train</th>\n",
       "      <th>sd_mean_test</th>\n",
       "      <th>Dif</th>\n",
       "    </tr>\n",
       "  </thead>\n",
       "  <tbody>\n",
       "    <tr>\n",
       "      <th>3</th>\n",
       "      <td>0.932429</td>\n",
       "      <td>0.922717</td>\n",
       "      <td>0.007460</td>\n",
       "      <td>0.018913</td>\n",
       "      <td>0.009712</td>\n",
       "    </tr>\n",
       "    <tr>\n",
       "      <th>4</th>\n",
       "      <td>0.956171</td>\n",
       "      <td>0.934253</td>\n",
       "      <td>0.002512</td>\n",
       "      <td>0.013248</td>\n",
       "      <td>0.021918</td>\n",
       "    </tr>\n",
       "    <tr>\n",
       "      <th>5</th>\n",
       "      <td>0.966023</td>\n",
       "      <td>0.941561</td>\n",
       "      <td>0.002836</td>\n",
       "      <td>0.004180</td>\n",
       "      <td>0.024462</td>\n",
       "    </tr>\n",
       "    <tr>\n",
       "      <th>6</th>\n",
       "      <td>0.975058</td>\n",
       "      <td>0.944637</td>\n",
       "      <td>0.003290</td>\n",
       "      <td>0.007002</td>\n",
       "      <td>0.030421</td>\n",
       "    </tr>\n",
       "    <tr>\n",
       "      <th>7</th>\n",
       "      <td>0.982363</td>\n",
       "      <td>0.942520</td>\n",
       "      <td>0.001902</td>\n",
       "      <td>0.005336</td>\n",
       "      <td>0.039843</td>\n",
       "    </tr>\n",
       "  </tbody>\n",
       "</table>\n",
       "</div>"
      ],
      "text/plain": [
       "   acc_mean_train  acc_mean_test  sd_mean_train  sd_mean_test       Dif\n",
       "3        0.932429       0.922717       0.007460      0.018913  0.009712\n",
       "4        0.956171       0.934253       0.002512      0.013248  0.021918\n",
       "5        0.966023       0.941561       0.002836      0.004180  0.024462\n",
       "6        0.975058       0.944637       0.003290      0.007002  0.030421\n",
       "7        0.982363       0.942520       0.001902      0.005336  0.039843"
      ]
     },
     "execution_count": 19,
     "metadata": {},
     "output_type": "execute_result"
    }
   ],
   "source": [
    "# Reordenando para se encontrar o melhor resultado\n",
    "results_dt = results_dt.sort_values(by=['acc_mean_test', 'acc_mean_train'], ascending=False)\n",
    "results_dt = results_dt.sort_values(by=['Dif'], ascending=True) # Rodou-se esse chunck com essa linha comentada para comparação!\n",
    "\n",
    "#Visualizando os 5 primeiros\n",
    "results_dt.head()"
   ]
  },
  {
   "cell_type": "markdown",
   "metadata": {},
   "source": [
    "No gráfico a cima, pode-se notar que a medida que aumentamos a profundidade máxima da árvore, o modelo tende a ter melhor desempenho nos dados de treino, em contrariedade com o desempenho nos dados de teste. Isso se deve ao fato de que ao aumentarmos o númerode divisões sucessivas realizadas em nossa árvore de decisão, aumenta-se a complexidade do modelo, o que nos leva a ter um erro por variância maior, e consequente *overfit*. \n",
    "\n",
    "\n",
    "Sendo assim, devemos escolher como melhor modelo aquele com melhor desempenho no banco de teste dentre os que possuem diferença entre as acurácias menor ou igual a 4% (definido previamente nesse relatório). Graficamente, seria o ponto em que as curvas \"descolam\" uma da outra, em que descolar seria ter uma diferença exatamente igual a 0.04."
   ]
  },
  {
   "cell_type": "markdown",
   "metadata": {},
   "source": [
    "#### Notamos que o ponto mais próximo desse comportamento é aquele referente ao modelo em que a profundidade máxima é 6. Esse será o modelo utilizado na parte final desse trabalho de comparação com os demais modelos selecionados."
   ]
  },
  {
   "cell_type": "markdown",
   "metadata": {},
   "source": [
    "### 3.3 SVM"
   ]
  },
  {
   "cell_type": "markdown",
   "metadata": {},
   "source": [
    "Uma máquina de vetores suportes (support vector machine), conforme definido por Cortes and Vapnik (1995), consiste em um método de aprendizado supervisionado, que a partir da análise de dados, reconhece padrões e classifica cada entrada de acordo com suas características de forma não probabilística. Neste método, a ideia consiste em encontrar um vetor que melhor separe duas classes."
   ]
  },
  {
   "cell_type": "markdown",
   "metadata": {},
   "source": [
    "Para a realização da classificação é comum utilizarmos os valores da variável resposta\n",
    "binária em -1,1 ao invés de 0,1. Sendo assim, calcula-se:\n",
    "\n",
    "$$f(x) = \\beta_0 + \\beta_1x_1 + ... + \\beta_px_p,$$\n",
    "\n",
    "onde $x_i$ corresponde ao vetor referente a $i$-ésima feature e $\\beta_i$ o parâmetro correspondente e a partir desta, caso $f(x) < 0$ predizemos $Y=-1$, isto é $g(x)=-1$. Caso $f(x)>0$, classificamos $Y=1$."
   ]
  },
  {
   "cell_type": "markdown",
   "metadata": {},
   "source": [
    "Por isso, a seguir iremos reformatar a variável resposta desse trabalho temporariamente para $-1$ nos casos em que originalmente tínhamos `FALSE POSITIVE` para -1. Além disso iremos utilizar os dados de maneira normalizada, para se ter menor custo computacional."
   ]
  },
  {
   "cell_type": "code",
   "execution_count": 20,
   "metadata": {},
   "outputs": [],
   "source": [
    "# Cria-se um for para analisar cada caso da variável 'koi_disposition'. Se for 1 atribuímos 1, caso contrátrio -1.\n",
    "result = []\n",
    "for i in range(len(df)):\n",
    "    if df_n['koi_disposition'][i] == 1:\n",
    "        result.append(1)\n",
    "    else:\n",
    "        result.append(-1)\n",
    "        \n",
    "# Em seguida substituímos os valores no dataframe\n",
    "df_n['koi_disposition'] = result"
   ]
  },
  {
   "cell_type": "code",
   "execution_count": 21,
   "metadata": {},
   "outputs": [],
   "source": [
    "# Separando features de variável de interesse (TARGET).\n",
    "X = df_n.iloc[:,1:]\n",
    "y = df_n.iloc[:,0]"
   ]
  },
  {
   "cell_type": "code",
   "execution_count": 22,
   "metadata": {},
   "outputs": [],
   "source": [
    "# Voltando pro original após selecionar X e y\n",
    "result = []\n",
    "for i in range(len(df)):\n",
    "    if df_n['koi_disposition'][i] == 1:\n",
    "        result.append(1)\n",
    "    else:\n",
    "        result.append(0)\n",
    "        \n",
    "# Em seguida substituímos os valores no dataframe\n",
    "df_n['koi_disposition'] = result"
   ]
  },
  {
   "cell_type": "markdown",
   "metadata": {},
   "source": [
    "No entanto, quando se trata de duas dimensões bem separadas, a classificação acontece de forma correta com relativa facilidade. No entanto, quando as classes estão espalhadas de forma mais homogênea no espaço, um SVM linear não consegue separar os dados de forma apropriada. Para isso, utiliza-se o truque do kernel, que consiste em projetar os dados em um novo espaço aonde seja possível realizar a separação de classes por um hiperplano ou outra forma a depender da nova dimensão, e após isso retornar ao espaço original de forma que o kernel não seja mais linear e separe bem os dados."
   ]
  },
  {
   "cell_type": "markdown",
   "metadata": {},
   "source": [
    "De forma algébrica, o truque do kernel consiste na realização de transformações das variáveis originais e aplicar o classificador SVM nos dados transformados. Logo, a solução pode ser escrita como na equação a seguir:\n",
    "\n",
    "$$f(x) = \\beta_0 + \\sum_{k=1}^n \\alpha_kK(x,x_k),$$\n",
    "\n",
    "onde $K(x,x_k)$ corresponde a transformação aplicada nas observações das covariáveis. \n",
    "\n",
    "Pode-se utilizar diversos tipos diferentes de funções kernel. Nesse trabalho, iremos testar os kernels linear, polinomial, sigmoidal e RFB. Esse será o parâmetro a ser escolhido utilizando validação cruzada dos dados. Todo o procedimento da cross-validation se assemelha ao realizado ná árvore de decisão, por isso alguns comentários serão suprimidos e o código pode ser encontrado a seguir."
   ]
  },
  {
   "cell_type": "code",
   "execution_count": 23,
   "metadata": {},
   "outputs": [],
   "source": [
    "from sklearn.svm import SVC                                  # Importando funções importantes relativas a SVM. \n",
    "cv = KFold(n_splits=5, random_state=1, shuffle=False)        # Realizamos a criação dos k grupos do nosso dado.\n",
    "kernels = ['linear', 'poly', 'sigmoid', 'rbf']\n",
    "acc_test_mean = []\n",
    "acc_train_mean = []\n",
    "acc_test_sd = []\n",
    "acc_train_sd = []\n",
    "for ker in kernels:\n",
    "    acc_test = []\n",
    "    acc_train = []\n",
    "    for train_index, test_index in cv.split(X):\n",
    "        # Separando em treino e teste\n",
    "        X_train, X_test, y_train, y_test = X.loc[train_index], X.loc[test_index], y.loc[train_index], y.loc[test_index]\n",
    "\n",
    "        # Criando objeto para k-NN\n",
    "        model_svm = SVC(kernel=ker)\n",
    "\n",
    "        # Treinando o modelo\n",
    "        model_svm.fit(X_train, y_train)\n",
    "\n",
    "        # Fazendo previsões\n",
    "        y_pred_test = model_svm.predict(X_test)\n",
    "        y_pred_train = model_svm.predict(X_train)\n",
    "        \n",
    "        # Calculando a acurácia, precisão e recall\n",
    "        acc_test.append(metrics.accuracy_score(y_test, y_pred_test))\n",
    "        acc_train.append(metrics.accuracy_score(y_train, y_pred_train))\n",
    "        \n",
    "    # Calculando a média e o desvio padrão das acurácias\n",
    "    acc_test_mean.append(np.array(acc_test).mean())\n",
    "    acc_train_mean.append(np.array(acc_train).mean())\n",
    "    acc_test_sd.append(np.array(acc_test).std())\n",
    "    acc_train_sd.append(np.array(acc_train).std())"
   ]
  },
  {
   "cell_type": "code",
   "execution_count": 24,
   "metadata": {},
   "outputs": [],
   "source": [
    "# Criando dataframes com os resultados\n",
    "mean_test_svm = pd.DataFrame(acc_test_mean, index=kernels, columns=['acc_mean_test'])\n",
    "mean_train_svm = pd.DataFrame(acc_train_mean, index=kernels, columns=['acc_mean_train'])\n",
    "sd_test_svm = pd.DataFrame(acc_test_sd, index=kernels, columns=['acc_sd_test'])\n",
    "sd_train_svm = pd.DataFrame(acc_train_sd, index=kernels, columns=['acc_sd_rain'])"
   ]
  },
  {
   "cell_type": "code",
   "execution_count": 25,
   "metadata": {},
   "outputs": [],
   "source": [
    "# Concatena e cria um dataframe com os resultados\n",
    "results_svm = pd.DataFrame(pd.concat([mean_train_svm, mean_test_svm,\n",
    "                                     sd_train_svm, sd_test_svm], axis=1))\n",
    "\n",
    "# Calculando as diferenças\n",
    "results_svm['Dif'] = results_svm['acc_mean_train'] - results_svm['acc_mean_test']"
   ]
  },
  {
   "cell_type": "code",
   "execution_count": 64,
   "metadata": {},
   "outputs": [
    {
     "data": {
      "image/png": "[encoded data removed]",
      "text/plain": [
       "<matplotlib.figure.Figure at 0x7f90901c01d0>"
      ]
     },
     "metadata": {},
     "output_type": "display_data"
    }
   ],
   "source": [
    "# Ajusta tamanho das barras\n",
    "bar_width = 0.25\n",
    " \n",
    "# Valores que vamos plotar\n",
    "foo1 = results_svm['acc_mean_train']\n",
    "foo2 = results_svm['acc_mean_test']\n",
    "\n",
    "# Posições em que vamos plotar\n",
    "r1 = np.arange(len(foo1))\n",
    "r2 = [x + bar_width for x in r1]\n",
    " \n",
    "# Plotando as barras\n",
    "plt.bar(r1, foo1, color='#7f6d5f', width=bar_width, edgecolor='white', label='Train')\n",
    "plt.bar(r2, foo2, color='#557f2d', width=bar_width, edgecolor='white', label='Test')\n",
    " \n",
    "# Customizando eixo x\n",
    "plt.xticks([r + bar_width for r in range(len(foo1))], results_svm.index)\n",
    "\n",
    "# Ajustes no gráfico\n",
    "plt.xlabel('Kernel')\n",
    "plt.ylabel('Acurácia Média')\n",
    "plt.ylim((0.74, 1))\n",
    "plt.legend()\n",
    "plt.title('Acurácias Médias em treino e teste para SVM')\n",
    "plt.show()"
   ]
  },
  {
   "cell_type": "code",
   "execution_count": 27,
   "metadata": {},
   "outputs": [
    {
     "data": {
      "text/html": [
       "<div>\n",
       "<style>\n",
       "    .dataframe thead tr:only-child th {\n",
       "        text-align: right;\n",
       "    }\n",
       "\n",
       "    .dataframe thead th {\n",
       "        text-align: left;\n",
       "    }\n",
       "\n",
       "    .dataframe tbody tr th {\n",
       "        vertical-align: top;\n",
       "    }\n",
       "</style>\n",
       "<table border=\"1\" class=\"dataframe\">\n",
       "  <thead>\n",
       "    <tr style=\"text-align: right;\">\n",
       "      <th></th>\n",
       "      <th>acc_mean_train</th>\n",
       "      <th>acc_mean_test</th>\n",
       "      <th>acc_sd_rain</th>\n",
       "      <th>acc_sd_test</th>\n",
       "      <th>Dif</th>\n",
       "    </tr>\n",
       "  </thead>\n",
       "  <tbody>\n",
       "    <tr>\n",
       "      <th>linear</th>\n",
       "      <td>0.955738</td>\n",
       "      <td>0.941175</td>\n",
       "      <td>0.002057</td>\n",
       "      <td>0.012190</td>\n",
       "      <td>0.014563</td>\n",
       "    </tr>\n",
       "    <tr>\n",
       "      <th>rbf</th>\n",
       "      <td>0.944204</td>\n",
       "      <td>0.927142</td>\n",
       "      <td>0.002553</td>\n",
       "      <td>0.009533</td>\n",
       "      <td>0.017062</td>\n",
       "    </tr>\n",
       "    <tr>\n",
       "      <th>sigmoid</th>\n",
       "      <td>0.836649</td>\n",
       "      <td>0.812009</td>\n",
       "      <td>0.009087</td>\n",
       "      <td>0.043858</td>\n",
       "      <td>0.024640</td>\n",
       "    </tr>\n",
       "    <tr>\n",
       "      <th>poly</th>\n",
       "      <td>0.865244</td>\n",
       "      <td>0.762974</td>\n",
       "      <td>0.022793</td>\n",
       "      <td>0.081876</td>\n",
       "      <td>0.102270</td>\n",
       "    </tr>\n",
       "  </tbody>\n",
       "</table>\n",
       "</div>"
      ],
      "text/plain": [
       "         acc_mean_train  acc_mean_test  acc_sd_rain  acc_sd_test       Dif\n",
       "linear         0.955738       0.941175     0.002057     0.012190  0.014563\n",
       "rbf            0.944204       0.927142     0.002553     0.009533  0.017062\n",
       "sigmoid        0.836649       0.812009     0.009087     0.043858  0.024640\n",
       "poly           0.865244       0.762974     0.022793     0.081876  0.102270"
      ]
     },
     "execution_count": 27,
     "metadata": {},
     "output_type": "execute_result"
    }
   ],
   "source": [
    "# Reordenando para se encontrar o melhor resultado\n",
    "results_svm = results_svm.sort_values(by=['acc_mean_test', 'acc_mean_train'], ascending=False)\n",
    "results_svm = results_svm.sort_values(by=['Dif'], ascending=True) # Rodou-se esse chunck com essa linha comentada para comparação!\n",
    "\n",
    "#Visualizando os 5 primeiros\n",
    "results_svm.head()"
   ]
  },
  {
   "cell_type": "markdown",
   "metadata": {},
   "source": [
    "Após a aplicação de validação cruzada para os tipos de kernel, fica clara a superioridade de desempenho do kernel Linear. Essa superioridade do kernel linear nos revela que o problema em questão nem sempre será melhor resolvido pelo modelo de maior complexidade, ou seja, evidencia o aumento do erro devido a variância. O aumento do número de vetores de suporte apresenta relação linear positiva com a complexididade no momento de teste, bem como o número de features. Além disso, aumenta-se o custo computacional, reforçando que o modelo com kernel linear é o mais adequado. Isso não significa que o kernel linear terá sempre um desempenho melhor, e sim que esse problema apresenta uma facilidade de separação suficientemente resolvível pela complexidade imposta ao se utilizar esse kernel. Para problemas mais difíceis de se separar, é provável um melhor desempenho de outros kernels."
   ]
  },
  {
   "cell_type": "markdown",
   "metadata": {},
   "source": [
    "### 3.4 k-NN"
   ]
  },
  {
   "cell_type": "markdown",
   "metadata": {},
   "source": [
    "O k-NN é um algoritmo simples utilizado pra previsões baseadas em medidas de similaridade. Vem sido muito utilizado em reconhecimento de padrões e para estimações estatísticas. Basicamente, um caso é classificado de acordo com a maioria dos votos de seus k pontos mais próximos. No caso de k=1, a classe será a mesma de seu vizinho mais próximo. \n",
    "\n",
    "Sendo assim, o parâmetro de interesse no momento de aplicação do *cross-validation* será o número de vizinhos a se considerar. O código utilizado, é apresentado a seguir e possui a mesma estrutura dos modelos anteriores, de forma a facilitar o acompanhamento de raciocínio.\n",
    "\n",
    "Como o número de vizinhos está relacionado ao número de observações do banco de dados, os limites de busca serão mais esparsos se comparados ao modelo de árvores de decisão."
   ]
  },
  {
   "cell_type": "code",
   "execution_count": 65,
   "metadata": {},
   "outputs": [],
   "source": [
    "from sklearn.neighbors import KNeighborsClassifier"
   ]
  },
  {
   "cell_type": "code",
   "execution_count": 66,
   "metadata": {},
   "outputs": [],
   "source": [
    "X = df_n.iloc[:,1:]\n",
    "y = df_n.iloc[:,0]"
   ]
  },
  {
   "cell_type": "code",
   "execution_count": 71,
   "metadata": {},
   "outputs": [],
   "source": [
    "cv = KFold(n_splits=5, random_state=1, shuffle=False)\n",
    "sizes = list(range(2, 30, 2))\n",
    "acc_test_mean = []\n",
    "acc_train_mean = []\n",
    "acc_test_sd = []\n",
    "acc_train_sd = []\n",
    "for k in sizes:\n",
    "    acc_test = []\n",
    "    acc_train = []\n",
    "    for train_index, test_index in cv.split(X):\n",
    "        # Separando em treino e teste\n",
    "        X_train, X_test, y_train, y_test = X.loc[train_index], X.loc[test_index], y.loc[train_index], y.loc[test_index]\n",
    "\n",
    "        # Criando objeto para k-NN\n",
    "        model_knn = KNeighborsClassifier(n_neighbors=k)\n",
    "\n",
    "        # Treinando o modelo\n",
    "        model_knn.fit(X_train, y_train.values.ravel())\n",
    "\n",
    "        # Fazendo previsões\n",
    "        y_pred_test = model_knn.predict(X_test)\n",
    "        y_pred_train = model_knn.predict(X_train)\n",
    "        \n",
    "        # Calculando a acurácia, precisão e recall\n",
    "        acc_test.append(metrics.accuracy_score(y_test, y_pred_test))\n",
    "        acc_train.append(metrics.accuracy_score(y_train, y_pred_train))\n",
    "\n",
    "    # Calculando a média da acurácia\n",
    "    acc_test_mean.append(np.array(acc_test).mean())\n",
    "    acc_train_mean.append(np.array(acc_train).mean())\n",
    "    acc_test_sd.append(np.array(acc_test).std())\n",
    "    acc_train_sd.append(np.array(acc_train).std())"
   ]
  },
  {
   "cell_type": "code",
   "execution_count": 72,
   "metadata": {},
   "outputs": [],
   "source": [
    "# Criando dataframes com os resultados\n",
    "mean_test_knn = pd.DataFrame(acc_test_mean, index=sizes, columns=['acc_mean_test'])\n",
    "mean_train_knn = pd.DataFrame(acc_train_mean, index=sizes, columns=['acc_mean_train'])\n",
    "sd_test_knn = pd.DataFrame(acc_test_sd, index=sizes, columns=['acc_sd_test'])\n",
    "sd_train_knn = pd.DataFrame(acc_train_sd, index=sizes, columns=['acc_sd_rain'])"
   ]
  },
  {
   "cell_type": "code",
   "execution_count": 73,
   "metadata": {},
   "outputs": [],
   "source": [
    "# Concatena e cria um dataframe com os resultados\n",
    "results_knn = pd.DataFrame(pd.concat([mean_train_knn, mean_test_knn,\n",
    "                                      sd_train_knn, sd_test_knn], axis=1))\n",
    "\n",
    "# Calculando as diferenças\n",
    "results_knn['Dif'] = results_knn['acc_mean_train'] - results_knn['acc_mean_test']"
   ]
  },
  {
   "cell_type": "code",
   "execution_count": 74,
   "metadata": {},
   "outputs": [
    {
     "data": {
      "text/plain": [
       "<matplotlib.legend.Legend at 0x7f909064de10>"
      ]
     },
     "execution_count": 74,
     "metadata": {},
     "output_type": "execute_result"
    },
    {
     "data": {
      "image/png": "[encoded data removed]",
      "text/plain": [
       "<matplotlib.figure.Figure at 0x7f9090332470>"
      ]
     },
     "metadata": {},
     "output_type": "display_data"
    }
   ],
   "source": [
    "plt.figure(figsize=(10,6))\n",
    "plt.xlabel('K')\n",
    "plt.ylabel('Acurácia Média')\n",
    "plt.title('Cross-Validation para k-NN')\n",
    "plt.plot(results_knn['acc_mean_train'], label='Train')\n",
    "plt.plot(results_knn['acc_mean_test'], label='Test')\n",
    "plt.legend()"
   ]
  },
  {
   "cell_type": "code",
   "execution_count": 79,
   "metadata": {},
   "outputs": [
    {
     "data": {
      "text/html": [
       "<div>\n",
       "<style>\n",
       "    .dataframe thead tr:only-child th {\n",
       "        text-align: right;\n",
       "    }\n",
       "\n",
       "    .dataframe thead th {\n",
       "        text-align: left;\n",
       "    }\n",
       "\n",
       "    .dataframe tbody tr th {\n",
       "        vertical-align: top;\n",
       "    }\n",
       "</style>\n",
       "<table border=\"1\" class=\"dataframe\">\n",
       "  <thead>\n",
       "    <tr style=\"text-align: right;\">\n",
       "      <th></th>\n",
       "      <th>acc_mean_train</th>\n",
       "      <th>acc_mean_test</th>\n",
       "      <th>acc_sd_rain</th>\n",
       "      <th>acc_sd_test</th>\n",
       "      <th>Dif</th>\n",
       "    </tr>\n",
       "  </thead>\n",
       "  <tbody>\n",
       "    <tr>\n",
       "      <th>6</th>\n",
       "      <td>0.927865</td>\n",
       "      <td>0.883882</td>\n",
       "      <td>0.003353</td>\n",
       "      <td>0.027502</td>\n",
       "      <td>0.043982</td>\n",
       "    </tr>\n",
       "    <tr>\n",
       "      <th>4</th>\n",
       "      <td>0.940888</td>\n",
       "      <td>0.882542</td>\n",
       "      <td>0.001568</td>\n",
       "      <td>0.014384</td>\n",
       "      <td>0.058347</td>\n",
       "    </tr>\n",
       "    <tr>\n",
       "      <th>8</th>\n",
       "      <td>0.918685</td>\n",
       "      <td>0.881187</td>\n",
       "      <td>0.002973</td>\n",
       "      <td>0.035427</td>\n",
       "      <td>0.037498</td>\n",
       "    </tr>\n",
       "    <tr>\n",
       "      <th>10</th>\n",
       "      <td>0.911573</td>\n",
       "      <td>0.876573</td>\n",
       "      <td>0.002659</td>\n",
       "      <td>0.036903</td>\n",
       "      <td>0.035000</td>\n",
       "    </tr>\n",
       "    <tr>\n",
       "      <th>12</th>\n",
       "      <td>0.905902</td>\n",
       "      <td>0.872341</td>\n",
       "      <td>0.003594</td>\n",
       "      <td>0.043887</td>\n",
       "      <td>0.033561</td>\n",
       "    </tr>\n",
       "  </tbody>\n",
       "</table>\n",
       "</div>"
      ],
      "text/plain": [
       "    acc_mean_train  acc_mean_test  acc_sd_rain  acc_sd_test       Dif\n",
       "6         0.927865       0.883882     0.003353     0.027502  0.043982\n",
       "4         0.940888       0.882542     0.001568     0.014384  0.058347\n",
       "8         0.918685       0.881187     0.002973     0.035427  0.037498\n",
       "10        0.911573       0.876573     0.002659     0.036903  0.035000\n",
       "12        0.905902       0.872341     0.003594     0.043887  0.033561"
      ]
     },
     "execution_count": 79,
     "metadata": {},
     "output_type": "execute_result"
    }
   ],
   "source": [
    "# Reordenando para se encontrar o melhor resultado\n",
    "results_knn = results_knn.sort_values(by=['acc_mean_test', 'acc_mean_train'], ascending=False)\n",
    "#results_knn = results_knn.sort_values(by=['Dif'], ascending=True) # Rodou-se esse chunck com essa linha comentada para comparação!\n",
    "\n",
    "#Visualizando os 5 primeiros\n",
    "results_knn.head()"
   ]
  },
  {
   "cell_type": "markdown",
   "metadata": {},
   "source": [
    "Primeiramente, nota-se o maior tempo computacional para execução do algoritmo. Isso se deve ao fato de ser necessário o cálculo da distância de todos os pontos existentes para o funcionamento desse método.\n",
    "\n",
    "Além disso, nota-se que, para o caso em estudo, o k-NN com melhor desempenho pode ser dado por aquele que considera os 6 primeiros vizinhos, ou seja, k=6."
   ]
  },
  {
   "cell_type": "markdown",
   "metadata": {},
   "source": [
    "### 3.5 Random Forest"
   ]
  },
  {
   "cell_type": "markdown",
   "metadata": {},
   "source": [
    "Conforme apresentado por Breiman (2001), floresta aleatória é um método de machine learning que também pode ser utilizado para classificação ou regressão. Como o próprio nome sugere, este método estima várias árvores de decisão e combina seus preditores de forma a minimizar o risco. Pode ser provado por através de contas estatísticas que se tomarmos a média de dois preditores, g1(x) e g2(x), não correlacionados, independentes e com mesma variância, o preditor obtido apresenta menor risco esperado do que g1(x) e g2(x)."
   ]
  },
  {
   "cell_type": "markdown",
   "metadata": {},
   "source": [
    "Nos modelos apresentados até o momento, utlizamos apenas um função de risco, enquanto neste caso, contruíremos B árvores de decisão, cada uma com sua função de risco e as combinaremos para criar um estimador com menor variância. O procedimento computacional de uma floresta aleatória pode ser descrito como:\n",
    "\n",
    "a. Criamos B amostras bootstrap, isto é, com reposição, da amostra original com m\n",
    "covariáveis, selecionadas aleatoriamente, sendo que m < p.\n",
    "\n",
    "b. Para cada amostra, constrói-se uma árvore de decisão e calcula-se sua função de predição $g^b(x)$.\n",
    "\n",
    "c. Estimamos o preditor final utilizando a moda dos $g^b(x)$.\n",
    "\n",
    "\n",
    "A ideia por trás da utilização de apenas m covariáveis, sendo elas diferentes em cada\n",
    "árvore, é diminuir a correlação entre as diferentes funções de predição, aumentando o viés\n",
    "de cada $g^b(x)$ mas diminuindo a variância."
   ]
  },
  {
   "cell_type": "markdown",
   "metadata": {},
   "source": [
    "Comparativamente às árvores de decisão, florestas aleatórias costumam apresentar menor erro e consequentemente maior acurácia nos modelos finais. No entanto, perde-se bastante no sentido de interpretação das árvores. "
   ]
  },
  {
   "cell_type": "markdown",
   "metadata": {},
   "source": [
    "Aqui, iremos aplicar a técnica de *cross-validation* no parâmetro relativo ao número de árvores utilizado. Manteremos o parâmetro de profundidade com melhor desempenho na validação cruzada para árvores de decisão."
   ]
  },
  {
   "cell_type": "code",
   "execution_count": 35,
   "metadata": {},
   "outputs": [],
   "source": [
    "from sklearn.ensemble import RandomForestClassifier"
   ]
  },
  {
   "cell_type": "code",
   "execution_count": 36,
   "metadata": {},
   "outputs": [],
   "source": [
    "X = df_n.iloc[:,1:]\n",
    "y = df_n.iloc[:,0]"
   ]
  },
  {
   "cell_type": "markdown",
   "metadata": {},
   "source": [
    "#### Escolha do 'n_estimators'"
   ]
  },
  {
   "cell_type": "code",
   "execution_count": 37,
   "metadata": {},
   "outputs": [],
   "source": [
    "cv = KFold(n_splits=5, random_state=1, shuffle=False)\n",
    "sizes = list(range(2, 20, 2))\n",
    "acc_test_mean = []\n",
    "acc_train_mean = []\n",
    "acc_test_sd = []\n",
    "acc_train_sd = []\n",
    "for n_estimators in sizes:\n",
    "    acc_test = []\n",
    "    acc_train = []\n",
    "    for train_index, test_index in cv.split(X):\n",
    "        # Separando em treino e teste\n",
    "        X_train, X_test, y_train, y_test = X.loc[train_index], X.loc[test_index], y.loc[train_index], y.loc[test_index]\n",
    "\n",
    "        # Criando objeto para k-NN\n",
    "        model_rf = RandomForestClassifier(n_estimators=n_estimators, max_depth=6)\n",
    "\n",
    "        # Treinando o modelo\n",
    "        model_rf.fit(X_train, y_train.values.ravel())\n",
    "\n",
    "        # Fazendo previsões\n",
    "        y_pred_test = model_rf.predict(X_test)\n",
    "        y_pred_train = model_rf.predict(X_train)\n",
    "        \n",
    "        # Calculando a acurácia, precisão e recall\n",
    "        acc_test.append(metrics.accuracy_score(y_test, y_pred_test))\n",
    "        acc_train.append(metrics.accuracy_score(y_train, y_pred_train))\n",
    "\n",
    "    # Calculando a média da acurácia\n",
    "    acc_test_mean.append(np.array(acc_test).mean())\n",
    "    acc_train_mean.append(np.array(acc_train).mean())\n",
    "    acc_test_sd.append(np.array(acc_test).std())\n",
    "    acc_train_sd.append(np.array(acc_train).std())"
   ]
  },
  {
   "cell_type": "code",
   "execution_count": 38,
   "metadata": {},
   "outputs": [],
   "source": [
    "# Criando dataframes com os resultados\n",
    "mean_test_rf = pd.DataFrame(acc_test_mean, index=sizes, columns=['acc_mean_test'])\n",
    "mean_train_rf = pd.DataFrame(acc_train_mean, index=sizes, columns=['acc_mean_train'])\n",
    "sd_test_rf = pd.DataFrame(acc_test_sd, index=sizes, columns=['acc_sd_test'])\n",
    "sd_train_rf = pd.DataFrame(acc_train_sd, index=sizes, columns=['acc_sd_rain'])"
   ]
  },
  {
   "cell_type": "code",
   "execution_count": 39,
   "metadata": {},
   "outputs": [],
   "source": [
    "# Concatena e cria um dataframe com os resultados\n",
    "results_rf = pd.DataFrame(pd.concat([mean_train_rf, mean_test_rf,\n",
    "                                      sd_train_rf, sd_test_rf], axis=1))\n",
    "\n",
    "# Calculando as diferenças\n",
    "results_rf['Dif'] = results_rf['acc_mean_train'] - results_rf['acc_mean_test']"
   ]
  },
  {
   "cell_type": "code",
   "execution_count": 40,
   "metadata": {},
   "outputs": [
    {
     "data": {
      "text/plain": [
       "<matplotlib.legend.Legend at 0x7f9090535dd8>"
      ]
     },
     "execution_count": 40,
     "metadata": {},
     "output_type": "execute_result"
    },
    {
     "data": {
      "image/png": "[encoded data removed]",
      "text/plain": [
       "<matplotlib.figure.Figure at 0x7f90905ca9e8>"
      ]
     },
     "metadata": {},
     "output_type": "display_data"
    }
   ],
   "source": [
    "plt.figure(figsize=(10,6))\n",
    "plt.xlabel('número de árvores')\n",
    "plt.ylabel('Acurácia Média')\n",
    "plt.title('Cross-Validation para Random Forest')\n",
    "plt.plot(results_rf['acc_mean_train'], label='Train')\n",
    "plt.plot(results_rf['acc_mean_test'], label='Test')\n",
    "plt.legend()"
   ]
  },
  {
   "cell_type": "code",
   "execution_count": 41,
   "metadata": {},
   "outputs": [
    {
     "data": {
      "text/html": [
       "<div>\n",
       "<style>\n",
       "    .dataframe thead tr:only-child th {\n",
       "        text-align: right;\n",
       "    }\n",
       "\n",
       "    .dataframe thead th {\n",
       "        text-align: left;\n",
       "    }\n",
       "\n",
       "    .dataframe tbody tr th {\n",
       "        vertical-align: top;\n",
       "    }\n",
       "</style>\n",
       "<table border=\"1\" class=\"dataframe\">\n",
       "  <thead>\n",
       "    <tr style=\"text-align: right;\">\n",
       "      <th></th>\n",
       "      <th>acc_mean_train</th>\n",
       "      <th>acc_mean_test</th>\n",
       "      <th>acc_sd_rain</th>\n",
       "      <th>acc_sd_test</th>\n",
       "      <th>Dif</th>\n",
       "    </tr>\n",
       "  </thead>\n",
       "  <tbody>\n",
       "    <tr>\n",
       "      <th>10</th>\n",
       "      <td>0.972847</td>\n",
       "      <td>0.949251</td>\n",
       "      <td>0.002619</td>\n",
       "      <td>0.008977</td>\n",
       "      <td>0.023596</td>\n",
       "    </tr>\n",
       "    <tr>\n",
       "      <th>18</th>\n",
       "      <td>0.971838</td>\n",
       "      <td>0.945024</td>\n",
       "      <td>0.002991</td>\n",
       "      <td>0.010380</td>\n",
       "      <td>0.026814</td>\n",
       "    </tr>\n",
       "    <tr>\n",
       "      <th>4</th>\n",
       "      <td>0.966984</td>\n",
       "      <td>0.938869</td>\n",
       "      <td>0.001786</td>\n",
       "      <td>0.011601</td>\n",
       "      <td>0.028115</td>\n",
       "    </tr>\n",
       "    <tr>\n",
       "      <th>8</th>\n",
       "      <td>0.973280</td>\n",
       "      <td>0.944060</td>\n",
       "      <td>0.002291</td>\n",
       "      <td>0.014058</td>\n",
       "      <td>0.029220</td>\n",
       "    </tr>\n",
       "    <tr>\n",
       "      <th>14</th>\n",
       "      <td>0.974529</td>\n",
       "      <td>0.944828</td>\n",
       "      <td>0.003304</td>\n",
       "      <td>0.012751</td>\n",
       "      <td>0.029701</td>\n",
       "    </tr>\n",
       "  </tbody>\n",
       "</table>\n",
       "</div>"
      ],
      "text/plain": [
       "    acc_mean_train  acc_mean_test  acc_sd_rain  acc_sd_test       Dif\n",
       "10        0.972847       0.949251     0.002619     0.008977  0.023596\n",
       "18        0.971838       0.945024     0.002991     0.010380  0.026814\n",
       "4         0.966984       0.938869     0.001786     0.011601  0.028115\n",
       "8         0.973280       0.944060     0.002291     0.014058  0.029220\n",
       "14        0.974529       0.944828     0.003304     0.012751  0.029701"
      ]
     },
     "execution_count": 41,
     "metadata": {},
     "output_type": "execute_result"
    }
   ],
   "source": [
    "# Reordenando para se encontrar o melhor resultado\n",
    "results_rf = results_rf.sort_values(by=['acc_mean_test', 'acc_mean_train'], ascending=False)\n",
    "results_rf = results_rf.sort_values(by=['Dif'], ascending=True) # Rodou-se esse chunck com essa linha comentada para comparação!\n",
    "\n",
    "#Visualizando os 5 primeiros\n",
    "results_rf.head()"
   ]
  },
  {
   "cell_type": "markdown",
   "metadata": {},
   "source": [
    "Observando o gráfico e a tabela ordenada a cima, podemos tirar algumas conclusões.\n",
    "\n",
    "Notamos que o melhor resultado médio nos dados de teste aconteceu com 10 árvores de decisão. No entanto, é interessante notar que a diferença dos resultados entre este e o caso com 4 árvores, não é tão grande assim. Além disso, no caso em que n_estimators=4, diminui-se a variância com relação ao outro caso. Sendo asim, seria prudente dizer que o modelo mais indicado é aquele em que se utiliza 4 árvores de decisão.\n",
    "\n",
    "Nota-se também que a escala do gráfico pode ser um fator de condução ao erro, uma vez que a diferença entre os dados de treino e de teste não é tão menor quanto parece para o modelo com 4 árvores."
   ]
  },
  {
   "cell_type": "markdown",
   "metadata": {},
   "source": [
    "### 3.6 Gradient Tree Boosting"
   ]
  },
  {
   "cell_type": "markdown",
   "metadata": {},
   "source": [
    "Este modelo funciona com base em um ensemble de modelos de previsões mais fracos, geralmente árvores de decisão, de forma similar à que funciona os random forests. Seu diferencial está na permissão da escolha da função custo, ou seja, na regularização do modelo. A penalização devida a complexidade do modelo é a forma desse método atacar de frente o tipo de erro devido ao viés. No entanto, como de costume, diminui-se o viés, aumenta-se a variância.\n",
    "\n",
    "Assim, ao utilizarmos árvores de decisões como os modelos mais fracos, temos um menor custo computacional, além de uma metodologia que de certa forma diminuia variância. Ou seja, tenta-se compensar o aumento da variância devido a regularização.\n",
    "\n",
    "Por fim, Gradient Tree Boosting é o modelo que tenta atacar por todos os ângulos o problema do trade-off viés variância.\n",
    "\n",
    "Aqui o parâmetro a ser variado na cross-validation será o número de iterações."
   ]
  },
  {
   "cell_type": "code",
   "execution_count": 76,
   "metadata": {},
   "outputs": [],
   "source": [
    "from sklearn.ensemble import GradientBoostingClassifier"
   ]
  },
  {
   "cell_type": "code",
   "execution_count": 77,
   "metadata": {},
   "outputs": [],
   "source": [
    "X = df_n.iloc[:,1:]\n",
    "y = df_n.iloc[:,0]"
   ]
  },
  {
   "cell_type": "code",
   "execution_count": 78,
   "metadata": {},
   "outputs": [],
   "source": [
    "cv = KFold(n_splits=5, random_state=1, shuffle=False)\n",
    "sizes = list(range(1, 100, 5))\n",
    "acc_test_mean = []\n",
    "acc_train_mean = []\n",
    "acc_test_sd = []\n",
    "acc_train_sd = []\n",
    "for iterations in sizes:\n",
    "    acc_test = []\n",
    "    acc_train = []\n",
    "    for train_index, test_index in cv.split(X):\n",
    "        # Separando em treino e teste\n",
    "        X_train, X_test, y_train, y_test = X.loc[train_index], X.loc[test_index], y.loc[train_index], y.loc[test_index]\n",
    "\n",
    "        # Criando objeto para k-NN\n",
    "        model_gb = GradientBoostingClassifier(n_estimators=iterations, subsample=1, max_depth=6, max_features=20)\n",
    "\n",
    "        # Treinando o modelo\n",
    "        model_gb.fit(X_train, y_train.values.ravel())\n",
    "\n",
    "        # Fazendo previsões\n",
    "        y_pred_test = model_gb.predict(X_test)\n",
    "        y_pred_train = model_gb.predict(X_train)\n",
    "        \n",
    "        # Calculando a acurácia, precisão e recall\n",
    "        acc_test.append(metrics.accuracy_score(y_test, y_pred_test))\n",
    "        acc_train.append(metrics.accuracy_score(y_train, y_pred_train))\n",
    "\n",
    "    # Calculando a média da acurácia\n",
    "    acc_test_mean.append(np.array(acc_test).mean())\n",
    "    acc_train_mean.append(np.array(acc_train).mean())\n",
    "    acc_test_sd.append(np.array(acc_test).std())\n",
    "    acc_train_sd.append(np.array(acc_train).std())"
   ]
  },
  {
   "cell_type": "code",
   "execution_count": 50,
   "metadata": {},
   "outputs": [],
   "source": [
    "# Criando dataframes com os resultados\n",
    "mean_test_gb = pd.DataFrame(acc_test_mean, index=sizes, columns=['acc_mean_test'])\n",
    "mean_train_gb = pd.DataFrame(acc_train_mean, index=sizes, columns=['acc_mean_train'])\n",
    "sd_test_gb = pd.DataFrame(acc_test_sd, index=sizes, columns=['acc_sd_test'])\n",
    "sd_train_gb = pd.DataFrame(acc_train_sd, index=sizes, columns=['acc_sd_rain'])"
   ]
  },
  {
   "cell_type": "code",
   "execution_count": 51,
   "metadata": {},
   "outputs": [],
   "source": [
    "# Concatena e cria um dataframe com os resultados\n",
    "results_gb = pd.DataFrame(pd.concat([mean_train_gb, mean_test_gb,\n",
    "                                      sd_train_gb, sd_test_gb], axis=1))\n",
    "\n",
    "# Calculando as diferenças\n",
    "results_gb['Dif'] = results_gb['acc_mean_train'] - results_gb['acc_mean_test']"
   ]
  },
  {
   "cell_type": "code",
   "execution_count": 52,
   "metadata": {},
   "outputs": [
    {
     "data": {
      "text/plain": [
       "<matplotlib.legend.Legend at 0x7f9090447c88>"
      ]
     },
     "execution_count": 52,
     "metadata": {},
     "output_type": "execute_result"
    },
    {
     "data": {
      "image/png": "[encoded data removed]",
      "text/plain": [
       "<matplotlib.figure.Figure at 0x7f90904d15f8>"
      ]
     },
     "metadata": {},
     "output_type": "display_data"
    }
   ],
   "source": [
    "plt.figure(figsize=(10,6))\n",
    "plt.xlabel('Iterations')\n",
    "plt.ylabel('Acurácia Média')\n",
    "plt.title('Cross-Validation para Gradient Tree Boosting')\n",
    "plt.plot(results_gb['acc_mean_train'], label='Train')\n",
    "plt.plot(results_gb['acc_mean_test'], label='Test')\n",
    "plt.legend()"
   ]
  },
  {
   "cell_type": "code",
   "execution_count": 53,
   "metadata": {},
   "outputs": [
    {
     "data": {
      "text/html": [
       "<div>\n",
       "<style>\n",
       "    .dataframe thead tr:only-child th {\n",
       "        text-align: right;\n",
       "    }\n",
       "\n",
       "    .dataframe thead th {\n",
       "        text-align: left;\n",
       "    }\n",
       "\n",
       "    .dataframe tbody tr th {\n",
       "        vertical-align: top;\n",
       "    }\n",
       "</style>\n",
       "<table border=\"1\" class=\"dataframe\">\n",
       "  <thead>\n",
       "    <tr style=\"text-align: right;\">\n",
       "      <th></th>\n",
       "      <th>acc_mean_train</th>\n",
       "      <th>acc_mean_test</th>\n",
       "      <th>acc_sd_rain</th>\n",
       "      <th>acc_sd_test</th>\n",
       "      <th>Dif</th>\n",
       "    </tr>\n",
       "  </thead>\n",
       "  <tbody>\n",
       "    <tr>\n",
       "      <th>9</th>\n",
       "      <td>0.983708</td>\n",
       "      <td>0.952907</td>\n",
       "      <td>0.002423</td>\n",
       "      <td>0.009015</td>\n",
       "      <td>0.030802</td>\n",
       "    </tr>\n",
       "    <tr>\n",
       "      <th>8</th>\n",
       "      <td>0.983564</td>\n",
       "      <td>0.951754</td>\n",
       "      <td>0.002246</td>\n",
       "      <td>0.010636</td>\n",
       "      <td>0.031810</td>\n",
       "    </tr>\n",
       "    <tr>\n",
       "      <th>6</th>\n",
       "      <td>0.981594</td>\n",
       "      <td>0.947140</td>\n",
       "      <td>0.001751</td>\n",
       "      <td>0.010416</td>\n",
       "      <td>0.034453</td>\n",
       "    </tr>\n",
       "    <tr>\n",
       "      <th>7</th>\n",
       "      <td>0.980969</td>\n",
       "      <td>0.945604</td>\n",
       "      <td>0.002522</td>\n",
       "      <td>0.015083</td>\n",
       "      <td>0.035365</td>\n",
       "    </tr>\n",
       "    <tr>\n",
       "      <th>4</th>\n",
       "      <td>0.974721</td>\n",
       "      <td>0.936957</td>\n",
       "      <td>0.003893</td>\n",
       "      <td>0.020052</td>\n",
       "      <td>0.037764</td>\n",
       "    </tr>\n",
       "    <tr>\n",
       "      <th>5</th>\n",
       "      <td>0.979959</td>\n",
       "      <td>0.938301</td>\n",
       "      <td>0.002325</td>\n",
       "      <td>0.020327</td>\n",
       "      <td>0.041658</td>\n",
       "    </tr>\n",
       "    <tr>\n",
       "      <th>3</th>\n",
       "      <td>0.904978</td>\n",
       "      <td>0.776916</td>\n",
       "      <td>0.113038</td>\n",
       "      <td>0.268790</td>\n",
       "      <td>0.128063</td>\n",
       "    </tr>\n",
       "    <tr>\n",
       "      <th>2</th>\n",
       "      <td>0.846052</td>\n",
       "      <td>0.668548</td>\n",
       "      <td>0.140227</td>\n",
       "      <td>0.322530</td>\n",
       "      <td>0.177504</td>\n",
       "    </tr>\n",
       "  </tbody>\n",
       "</table>\n",
       "</div>"
      ],
      "text/plain": [
       "   acc_mean_train  acc_mean_test  acc_sd_rain  acc_sd_test       Dif\n",
       "9        0.983708       0.952907     0.002423     0.009015  0.030802\n",
       "8        0.983564       0.951754     0.002246     0.010636  0.031810\n",
       "6        0.981594       0.947140     0.001751     0.010416  0.034453\n",
       "7        0.980969       0.945604     0.002522     0.015083  0.035365\n",
       "4        0.974721       0.936957     0.003893     0.020052  0.037764\n",
       "5        0.979959       0.938301     0.002325     0.020327  0.041658\n",
       "3        0.904978       0.776916     0.113038     0.268790  0.128063\n",
       "2        0.846052       0.668548     0.140227     0.322530  0.177504"
      ]
     },
     "execution_count": 53,
     "metadata": {},
     "output_type": "execute_result"
    }
   ],
   "source": [
    "# Reordenando para se encontrar o melhor resultado\n",
    "results_gb = results_gb.sort_values(by=['acc_mean_test', 'acc_mean_train'], ascending=False)\n",
    "results_gb = results_gb.sort_values(by=['Dif'], ascending=True) # Rodou-se esse chunck com essa linha comentada para comparação!\n",
    "\n",
    "#Visualizando os 10 primeiros\n",
    "results_gb.head(10)"
   ]
  },
  {
   "cell_type": "markdown",
   "metadata": {},
   "source": [
    "Aqui, tem-se um bom exemplo em que é possível observar que nem sempre o melhor erro no banco de teste (estimativa do erro esperado) está relacionado ao melhor modelo. Notamos que para 4 iterações o algoritmo já possui um desempenho muito próximo do que teria com 9. No entanto, a depender do pesquisador, pode-se optar pelo caso de 6 iterações. Essa seria uma escolha clara do pesquisador, visto que a diferença pode ser considerada significativa para uns e para outros não. No entanto, evidencia-se que o caso com menor erro esperado (9 iterações) não é o melhor modelo."
   ]
  },
  {
   "cell_type": "markdown",
   "metadata": {},
   "source": [
    "### 3.7 COMPARAÇÃO"
   ]
  },
  {
   "cell_type": "markdown",
   "metadata": {},
   "source": [
    "#### Naive Bayes"
   ]
  },
  {
   "cell_type": "code",
   "execution_count": 54,
   "metadata": {},
   "outputs": [],
   "source": [
    "# Separando em treino e teste\n",
    "idx = list(df_n.index)                            # lista os indexes\n",
    "np.random.shuffle(idx)                            # embaralha os index\n",
    "train, test = df_n[:int(0.6*len(idx))], df_n[int(0.6*len(idx)):]              # seleciona os 60% e os 40%. (NORMALIZADO)\n",
    "\n",
    "# Separando em y e X com normalização\n",
    "train_x, train_y = train.iloc[:,1:], train['koi_disposition']\n",
    "test_x, test_y = test.iloc[:,1:], test['koi_disposition']"
   ]
  },
  {
   "cell_type": "code",
   "execution_count": 55,
   "metadata": {},
   "outputs": [],
   "source": [
    "from sklearn.naive_bayes import GaussianNB\n",
    "\n",
    "# Criando um classificador gaussiano\n",
    "model_nb = GaussianNB()\n",
    "\n",
    "# Treinando o modelo\n",
    "model_nb.fit(train_x, train_y)\n",
    "\n",
    "# Predict Output\n",
    "y_pred_test = model_nb.predict(test_x)\n",
    "y_pred_train = model_nb.predict(train_x)"
   ]
  },
  {
   "cell_type": "code",
   "execution_count": 56,
   "metadata": {},
   "outputs": [
    {
     "name": "stdout",
     "output_type": "stream",
     "text": [
      "[[1769  169]\n",
      " [  18  125]]\n"
     ]
    }
   ],
   "source": [
    "# Print da Matriz de confusão\n",
    "print(confusion_matrix(test_y, y_pred_test))"
   ]
  },
  {
   "cell_type": "code",
   "execution_count": 57,
   "metadata": {},
   "outputs": [
    {
     "name": "stdout",
     "output_type": "stream",
     "text": [
      "             precision    recall  f1-score   support\n",
      "\n",
      "          0       0.99      0.91      0.95      1938\n",
      "          1       0.43      0.87      0.57       143\n",
      "\n",
      "avg / total       0.95      0.91      0.92      2081\n",
      "\n"
     ]
    }
   ],
   "source": [
    "print(classification_report(test_y, y_pred_test))"
   ]
  },
  {
   "cell_type": "code",
   "execution_count": 58,
   "metadata": {},
   "outputs": [
    {
     "name": "stdout",
     "output_type": "stream",
     "text": [
      "Acurácia Train: 0.938481256008\n",
      "Acurácia Test: 0.910139356079\n"
     ]
    }
   ],
   "source": [
    "print('Acurácia Train:', metrics.accuracy_score(train_y, y_pred_train))\n",
    "print('Acurácia Test:', metrics.accuracy_score(test_y, y_pred_test))"
   ]
  },
  {
   "cell_type": "code",
   "execution_count": 59,
   "metadata": {},
   "outputs": [
    {
     "data": {
      "image/png": "[encoded data removed]",
      "text/plain": [
       "<matplotlib.figure.Figure at 0x7f90904584a8>"
      ]
     },
     "metadata": {},
     "output_type": "display_data"
    }
   ],
   "source": [
    "fpr, tpr, _ = metrics.roc_curve(test_y, y_pred_test)\n",
    "\n",
    "plt.figure(figsize=(7, 7))\n",
    "lw = 2\n",
    "plt.plot(fpr, tpr, color='royalblue',lw=2)\n",
    "plt.plot([0, 1], [0, 1], color='Black', lw=2, ls='--')\n",
    "plt.xlim([0.0, 1.0])\n",
    "plt.ylim([0.0, 1.05])\n",
    "plt.xlabel('False Positive Rate')\n",
    "plt.ylabel('True Positive Rate')\n",
    "plt.title('Curva ROC')\n",
    "plt.show()"
   ]
  },
  {
   "cell_type": "markdown",
   "metadata": {},
   "source": [
    "#### Decision Tree"
   ]
  },
  {
   "cell_type": "code",
   "execution_count": 60,
   "metadata": {},
   "outputs": [],
   "source": [
    "# Separação do banco.\n",
    "X = df.iloc[:,1:]\n",
    "y = df.iloc[:,0]"
   ]
  },
  {
   "cell_type": "code",
   "execution_count": 61,
   "metadata": {},
   "outputs": [
    {
     "data": {
      "image/png": "[encoded data removed]",
      "text/plain": [
       "<matplotlib.figure.Figure at 0x7f909037f400>"
      ]
     },
     "metadata": {},
     "output_type": "display_data"
    }
   ],
   "source": [
    "from scipy import interp\n",
    "plt.figure(figsize=(15,10))\n",
    "cv = KFold(n_splits=5, random_state=1, shuffle=False)\n",
    "classifier = DecisionTreeClassifier(max_depth=6)\n",
    "\n",
    "tprs = []\n",
    "aucs = []\n",
    "mean_fpr = np.linspace(0, 1, 100)\n",
    "\n",
    "i = 0\n",
    "for train, test in cv.split(X):\n",
    "    probas_ = classifier.fit(X.loc[train], y.loc[train]).predict_proba(X.loc[test])\n",
    "    # Compute ROC curve and area the curve\n",
    "    fpr, tpr, thresholds = metrics.roc_curve(y.loc[test], probas_[:, 1])\n",
    "    tprs.append(interp(mean_fpr, fpr, tpr))\n",
    "    tprs[-1][0] = 0.0\n",
    "    roc_auc = metrics.auc(fpr, tpr)\n",
    "    aucs.append(roc_auc)\n",
    "    plt.plot(fpr, tpr, lw=1, alpha=0.3,\n",
    "             label='ROC fold %d (AUC = %0.2f)' % (i, roc_auc))\n",
    "\n",
    "    i += 1\n",
    "plt.plot([0, 1], [0, 1], linestyle='--', lw=2, color='r',\n",
    "         label='Chance', alpha=.8)\n",
    "\n",
    "mean_tpr = np.mean(tprs, axis=0)\n",
    "mean_tpr[-1] = 1.0\n",
    "mean_auc = metrics.auc(mean_fpr, mean_tpr)\n",
    "std_auc = np.std(aucs)\n",
    "plt.plot(mean_fpr, mean_tpr, color='b',\n",
    "         label=r'Mean ROC (AUC = %0.2f $\\pm$ %0.2f)' % (mean_auc, std_auc),\n",
    "         lw=2, alpha=.8)\n",
    "\n",
    "std_tpr = np.std(tprs, axis=0)\n",
    "tprs_upper = np.minimum(mean_tpr + std_tpr, 1)\n",
    "tprs_lower = np.maximum(mean_tpr - std_tpr, 0)\n",
    "plt.fill_between(mean_fpr, tprs_lower, tprs_upper, color='grey', alpha=.2,\n",
    "                 label=r'$\\pm$ 1 std. dev.')\n",
    "\n",
    "plt.xlim([-0.05, 1.05])\n",
    "plt.ylim([-0.05, 1.05])\n",
    "plt.xlabel('False Positive Rate')\n",
    "plt.ylabel('True Positive Rate')\n",
    "plt.title('ROC Curve DT')\n",
    "plt.legend(loc=\"lower right\")\n",
    "plt.show()"
   ]
  },
  {
   "cell_type": "markdown",
   "metadata": {},
   "source": [
    "#### k-NN"
   ]
  },
  {
   "cell_type": "code",
   "execution_count": 83,
   "metadata": {},
   "outputs": [
    {
     "data": {
      "image/png": "[encoded data removed]",
      "text/plain": [
       "<matplotlib.figure.Figure at 0x7f909020e4a8>"
      ]
     },
     "metadata": {},
     "output_type": "display_data"
    }
   ],
   "source": [
    "plt.figure(figsize=(15,10))\n",
    "cv = KFold(n_splits=5, random_state=1, shuffle=False)\n",
    "classifier = KNeighborsClassifier(n_neighbors=6)\n",
    "\n",
    "tprs = []\n",
    "aucs = []\n",
    "mean_fpr = np.linspace(0, 1, 100)\n",
    "\n",
    "i = 0\n",
    "for train, test in cv.split(X):\n",
    "    probas_ = classifier.fit(X.loc[train], y.loc[train]).predict_proba(X.loc[test])\n",
    "    # Compute ROC curve and area the curve\n",
    "    fpr, tpr, thresholds = metrics.roc_curve(y.loc[test], probas_[:, 1])\n",
    "    tprs.append(interp(mean_fpr, fpr, tpr))\n",
    "    tprs[-1][0] = 0.0\n",
    "    roc_auc = metrics.auc(fpr, tpr)\n",
    "    aucs.append(roc_auc)\n",
    "    plt.plot(fpr, tpr, lw=1, alpha=0.3,\n",
    "             label='ROC fold %d (AUC = %0.2f)' % (i, roc_auc))\n",
    "\n",
    "    i += 1\n",
    "plt.plot([0, 1], [0, 1], linestyle='--', lw=2, color='r',\n",
    "         label='Chance', alpha=.8)\n",
    "\n",
    "mean_tpr = np.mean(tprs, axis=0)\n",
    "mean_tpr[-1] = 1.0\n",
    "mean_auc = metrics.auc(mean_fpr, mean_tpr)\n",
    "std_auc = np.std(aucs)\n",
    "plt.plot(mean_fpr, mean_tpr, color='b',\n",
    "         label=r'Mean ROC (AUC = %0.2f $\\pm$ %0.2f)' % (mean_auc, std_auc),\n",
    "         lw=2, alpha=.8)\n",
    "\n",
    "std_tpr = np.std(tprs, axis=0)\n",
    "tprs_upper = np.minimum(mean_tpr + std_tpr, 1)\n",
    "tprs_lower = np.maximum(mean_tpr - std_tpr, 0)\n",
    "plt.fill_between(mean_fpr, tprs_lower, tprs_upper, color='grey', alpha=.2,\n",
    "                 label=r'$\\pm$ 1 std. dev.')\n",
    "\n",
    "plt.xlim([-0.05, 1.05])\n",
    "plt.ylim([-0.05, 1.05])\n",
    "plt.xlabel('False Positive Rate')\n",
    "plt.ylabel('True Positive Rate')\n",
    "plt.title('ROC Curve DT')\n",
    "plt.legend(loc=\"lower right\")\n",
    "plt.show()"
   ]
  },
  {
   "cell_type": "markdown",
   "metadata": {},
   "source": [
    "#### Random Forest"
   ]
  },
  {
   "cell_type": "code",
   "execution_count": 84,
   "metadata": {},
   "outputs": [
    {
     "data": {
      "image/png": "[encoded data removed]",
      "text/plain": [
       "<matplotlib.figure.Figure at 0x7f9090170e10>"
      ]
     },
     "metadata": {},
     "output_type": "display_data"
    }
   ],
   "source": [
    "plt.figure(figsize=(15,10))\n",
    "cv = KFold(n_splits=5, random_state=1, shuffle=False)\n",
    "classifier = RandomForestClassifier(n_estimators=14, max_depth=6)\n",
    "\n",
    "tprs = []\n",
    "aucs = []\n",
    "mean_fpr = np.linspace(0, 1, 100)\n",
    "\n",
    "i = 0\n",
    "for train, test in cv.split(X):\n",
    "    probas_ = classifier.fit(X.loc[train], y.loc[train]).predict_proba(X.loc[test])\n",
    "    # Compute ROC curve and area the curve\n",
    "    fpr, tpr, thresholds = metrics.roc_curve(y.loc[test], probas_[:, 1])\n",
    "    tprs.append(interp(mean_fpr, fpr, tpr))\n",
    "    tprs[-1][0] = 0.0\n",
    "    roc_auc = metrics.auc(fpr, tpr)\n",
    "    aucs.append(roc_auc)\n",
    "    plt.plot(fpr, tpr, lw=1, alpha=0.3,\n",
    "             label='ROC fold %d (AUC = %0.2f)' % (i, roc_auc))\n",
    "\n",
    "    i += 1\n",
    "plt.plot([0, 1], [0, 1], linestyle='--', lw=2, color='r',\n",
    "         label='Chance', alpha=.8)\n",
    "\n",
    "mean_tpr = np.mean(tprs, axis=0)\n",
    "mean_tpr[-1] = 1.0\n",
    "mean_auc = metrics.auc(mean_fpr, mean_tpr)\n",
    "std_auc = np.std(aucs)\n",
    "plt.plot(mean_fpr, mean_tpr, color='b',\n",
    "         label=r'Mean ROC (AUC = %0.2f $\\pm$ %0.2f)' % (mean_auc, std_auc),\n",
    "         lw=2, alpha=.8)\n",
    "\n",
    "std_tpr = np.std(tprs, axis=0)\n",
    "tprs_upper = np.minimum(mean_tpr + std_tpr, 1)\n",
    "tprs_lower = np.maximum(mean_tpr - std_tpr, 0)\n",
    "plt.fill_between(mean_fpr, tprs_lower, tprs_upper, color='grey', alpha=.2,\n",
    "                 label=r'$\\pm$ 1 std. dev.')\n",
    "\n",
    "plt.xlim([-0.05, 1.05])\n",
    "plt.ylim([-0.05, 1.05])\n",
    "plt.xlabel('False Positive Rate')\n",
    "plt.ylabel('True Positive Rate')\n",
    "plt.title('ROC Curve DT')\n",
    "plt.legend(loc=\"lower right\")\n",
    "plt.show()"
   ]
  },
  {
   "cell_type": "markdown",
   "metadata": {},
   "source": [
    "#### Gradient Tree Boosting"
   ]
  },
  {
   "cell_type": "code",
   "execution_count": 85,
   "metadata": {},
   "outputs": [
    {
     "data": {
      "image/png": "[encoded data removed]",
      "text/plain": [
       "<matplotlib.figure.Figure at 0x7f90900d0400>"
      ]
     },
     "metadata": {},
     "output_type": "display_data"
    }
   ],
   "source": [
    "plt.figure(figsize=(15,10))\n",
    "cv = KFold(n_splits=5, random_state=1, shuffle=False)\n",
    "classifier = GradientBoostingClassifier(n_estimators=iterations, subsample=1, max_depth=6, max_features=20)\n",
    "\n",
    "tprs = []\n",
    "aucs = []\n",
    "mean_fpr = np.linspace(0, 1, 100)\n",
    "\n",
    "i = 0\n",
    "for train, test in cv.split(X):\n",
    "    probas_ = classifier.fit(X.loc[train], y.loc[train]).predict_proba(X.loc[test])\n",
    "    # Compute ROC curve and area the curve\n",
    "    fpr, tpr, thresholds = metrics.roc_curve(y.loc[test], probas_[:, 1])\n",
    "    tprs.append(interp(mean_fpr, fpr, tpr))\n",
    "    tprs[-1][0] = 0.0\n",
    "    roc_auc = metrics.auc(fpr, tpr)\n",
    "    aucs.append(roc_auc)\n",
    "    plt.plot(fpr, tpr, lw=1, alpha=0.3,\n",
    "             label='ROC fold %d (AUC = %0.2f)' % (i, roc_auc))\n",
    "\n",
    "    i += 1\n",
    "plt.plot([0, 1], [0, 1], linestyle='--', lw=2, color='r',\n",
    "         label='Chance', alpha=.8)\n",
    "\n",
    "mean_tpr = np.mean(tprs, axis=0)\n",
    "mean_tpr[-1] = 1.0\n",
    "mean_auc = metrics.auc(mean_fpr, mean_tpr)\n",
    "std_auc = np.std(aucs)\n",
    "plt.plot(mean_fpr, mean_tpr, color='b',\n",
    "         label=r'Mean ROC (AUC = %0.2f $\\pm$ %0.2f)' % (mean_auc, std_auc),\n",
    "         lw=2, alpha=.8)\n",
    "\n",
    "std_tpr = np.std(tprs, axis=0)\n",
    "tprs_upper = np.minimum(mean_tpr + std_tpr, 1)\n",
    "tprs_lower = np.maximum(mean_tpr - std_tpr, 0)\n",
    "plt.fill_between(mean_fpr, tprs_lower, tprs_upper, color='grey', alpha=.2,\n",
    "                 label=r'$\\pm$ 1 std. dev.')\n",
    "\n",
    "plt.xlim([-0.05, 1.05])\n",
    "plt.ylim([-0.05, 1.05])\n",
    "plt.xlabel('False Positive Rate')\n",
    "plt.ylabel('True Positive Rate')\n",
    "plt.title('ROC Curve DT')\n",
    "plt.legend(loc=\"lower right\")\n",
    "plt.show()"
   ]
  },
  {
   "cell_type": "markdown",
   "metadata": {},
   "source": [
    "## Conclusões"
   ]
  },
  {
   "cell_type": "markdown",
   "metadata": {},
   "source": [
    "Após a realização do trabalho e aplicação dos métodos, podeo observar que o poder dessas ferramentas de machine learning é muito alto. Para o caso em questão os modelos atingiram níveis de acerto a cima de 90%.\n",
    "\n",
    "Dentre os modelos testados, o com melhor desempenho, com base na AUC, uma medida relacionada a acurácia foi o gradient tree bosting"
   ]
  }
 ],
 "metadata": {
  "kernelspec": {
   "display_name": "Python 3",
   "language": "python",
   "name": "python3"
  },
  "language_info": {
   "codemirror_mode": {
    "name": "ipython",
    "version": 3
   },
   "file_extension": ".py",
   "mimetype": "text/x-python",
   "name": "python",
   "nbconvert_exporter": "python",
   "pygments_lexer": "ipython3",
   "version": "3.6.3"
  }
 },
 "nbformat": 4,
 "nbformat_minor": 2
}
